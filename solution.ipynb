{
 "cells": [
  {
   "cell_type": "code",
   "execution_count": 1,
   "id": "425bbb5b",
   "metadata": {},
   "outputs": [],
   "source": [
    "import pandas as pd\n",
    "from sklearn.model_selection import train_test_split \n",
    "import numpy as np\n",
    "from sklearn.linear_model import Lasso\n",
    "from sklearn.linear_model import Ridge\n",
    "import category_encoders as ce\n",
    "from sklearn.linear_model import LinearRegression"
   ]
  },
  {
   "cell_type": "code",
   "execution_count": 2,
   "id": "ad8ceced",
   "metadata": {},
   "outputs": [],
   "source": [
    "data = pd.read_csv(\"train_data.csv\")\n",
    "train_data = data"
   ]
  },
  {
   "cell_type": "markdown",
   "id": "cc5fb19d",
   "metadata": {},
   "source": [
    "Посмотрим на данные в датасете. Выведем 5 первых наблюдений"
   ]
  },
  {
   "cell_type": "code",
   "execution_count": 3,
   "id": "4525a3b3",
   "metadata": {},
   "outputs": [
    {
     "data": {
      "text/html": [
       "<div>\n",
       "<style scoped>\n",
       "    .dataframe tbody tr th:only-of-type {\n",
       "        vertical-align: middle;\n",
       "    }\n",
       "\n",
       "    .dataframe tbody tr th {\n",
       "        vertical-align: top;\n",
       "    }\n",
       "\n",
       "    .dataframe thead th {\n",
       "        text-align: right;\n",
       "    }\n",
       "</style>\n",
       "<table border=\"1\" class=\"dataframe\">\n",
       "  <thead>\n",
       "    <tr style=\"text-align: right;\">\n",
       "      <th></th>\n",
       "      <th>row_ID</th>\n",
       "      <th>vehicle_manufacturer</th>\n",
       "      <th>vehicle_model</th>\n",
       "      <th>vehicle_category</th>\n",
       "      <th>current_mileage</th>\n",
       "      <th>vehicle_year</th>\n",
       "      <th>vehicle_gearbox_type</th>\n",
       "      <th>doors_cnt</th>\n",
       "      <th>wheels</th>\n",
       "      <th>vehicle_color</th>\n",
       "      <th>vehicle_interior_color</th>\n",
       "      <th>car_vin</th>\n",
       "      <th>car_leather_interior</th>\n",
       "      <th>deal_type</th>\n",
       "      <th>final_price</th>\n",
       "    </tr>\n",
       "  </thead>\n",
       "  <tbody>\n",
       "    <tr>\n",
       "      <th>0</th>\n",
       "      <td>0</td>\n",
       "      <td>TOYOTA</td>\n",
       "      <td>Aqua s</td>\n",
       "      <td>Sedan</td>\n",
       "      <td>133000</td>\n",
       "      <td>2014</td>\n",
       "      <td>Automatic</td>\n",
       "      <td>4/5</td>\n",
       "      <td>Right-hand drive</td>\n",
       "      <td>Silver</td>\n",
       "      <td>Black</td>\n",
       "      <td>NaN</td>\n",
       "      <td>0</td>\n",
       "      <td>For Sale</td>\n",
       "      <td>3650.0</td>\n",
       "    </tr>\n",
       "    <tr>\n",
       "      <th>1</th>\n",
       "      <td>1</td>\n",
       "      <td>MERCEDES-BENZ</td>\n",
       "      <td>C 220</td>\n",
       "      <td>Sedan</td>\n",
       "      <td>24500</td>\n",
       "      <td>2010</td>\n",
       "      <td>Manual</td>\n",
       "      <td>4/5</td>\n",
       "      <td>Left wheel</td>\n",
       "      <td>Silver</td>\n",
       "      <td>Black</td>\n",
       "      <td>NaN</td>\n",
       "      <td>0</td>\n",
       "      <td>For Sale</td>\n",
       "      <td>6800.0</td>\n",
       "    </tr>\n",
       "    <tr>\n",
       "      <th>2</th>\n",
       "      <td>2</td>\n",
       "      <td>HYUNDAI</td>\n",
       "      <td>Veloster</td>\n",
       "      <td>Hatchback</td>\n",
       "      <td>31000</td>\n",
       "      <td>2016</td>\n",
       "      <td>Tiptronic</td>\n",
       "      <td>2/3</td>\n",
       "      <td>Left wheel</td>\n",
       "      <td>Silver</td>\n",
       "      <td>Black</td>\n",
       "      <td>KMHTC6AE3GU293912</td>\n",
       "      <td>1</td>\n",
       "      <td>For Sale</td>\n",
       "      <td>6300.0</td>\n",
       "    </tr>\n",
       "    <tr>\n",
       "      <th>3</th>\n",
       "      <td>3</td>\n",
       "      <td>HYUNDAI</td>\n",
       "      <td>Santa FE</td>\n",
       "      <td>Jeep</td>\n",
       "      <td>115459</td>\n",
       "      <td>2015</td>\n",
       "      <td>Automatic</td>\n",
       "      <td>4/5</td>\n",
       "      <td>Left wheel</td>\n",
       "      <td>Blue</td>\n",
       "      <td>Black</td>\n",
       "      <td>NaN</td>\n",
       "      <td>1</td>\n",
       "      <td>For Sale</td>\n",
       "      <td>14488.0</td>\n",
       "    </tr>\n",
       "    <tr>\n",
       "      <th>4</th>\n",
       "      <td>4</td>\n",
       "      <td>TOYOTA</td>\n",
       "      <td>CHR</td>\n",
       "      <td>Jeep</td>\n",
       "      <td>18950</td>\n",
       "      <td>2019</td>\n",
       "      <td>Automatic</td>\n",
       "      <td>4/5</td>\n",
       "      <td>Left wheel</td>\n",
       "      <td>Black</td>\n",
       "      <td>NaN</td>\n",
       "      <td>JTNKHMBX7K1030253</td>\n",
       "      <td>1</td>\n",
       "      <td>For Sale</td>\n",
       "      <td>5000.0</td>\n",
       "    </tr>\n",
       "  </tbody>\n",
       "</table>\n",
       "</div>"
      ],
      "text/plain": [
       "   row_ID vehicle_manufacturer vehicle_model vehicle_category  \\\n",
       "0       0               TOYOTA        Aqua s            Sedan   \n",
       "1       1        MERCEDES-BENZ         C 220            Sedan   \n",
       "2       2              HYUNDAI      Veloster        Hatchback   \n",
       "3       3              HYUNDAI      Santa FE             Jeep   \n",
       "4       4               TOYOTA           CHR             Jeep   \n",
       "\n",
       "   current_mileage  vehicle_year vehicle_gearbox_type doors_cnt  \\\n",
       "0           133000          2014            Automatic       4/5   \n",
       "1            24500          2010               Manual       4/5   \n",
       "2            31000          2016            Tiptronic       2/3   \n",
       "3           115459          2015            Automatic       4/5   \n",
       "4            18950          2019            Automatic       4/5   \n",
       "\n",
       "                  wheels vehicle_color vehicle_interior_color  \\\n",
       "0    Right-hand drive          Silver                  Black    \n",
       "1           Left wheel         Silver                  Black    \n",
       "2           Left wheel         Silver                  Black    \n",
       "3           Left wheel           Blue                  Black    \n",
       "4           Left wheel          Black                     NaN   \n",
       "\n",
       "               car_vin  car_leather_interior deal_type  final_price  \n",
       "0                  NaN                     0  For Sale       3650.0  \n",
       "1                  NaN                     0  For Sale       6800.0  \n",
       "2   KMHTC6AE3GU293912                      1  For Sale       6300.0  \n",
       "3                  NaN                     1  For Sale      14488.0  \n",
       "4   JTNKHMBX7K1030253                      1  For Sale       5000.0  "
      ]
     },
     "execution_count": 3,
     "metadata": {},
     "output_type": "execute_result"
    }
   ],
   "source": [
    "train_data.head()"
   ]
  },
  {
   "cell_type": "markdown",
   "id": "77a9126f",
   "metadata": {},
   "source": [
    "Посмотрим, какие значения принимают каждые параметры, среднее, среднее отклонение, минимальное и максимальное значения\n"
   ]
  },
  {
   "cell_type": "code",
   "execution_count": 4,
   "id": "f151713a",
   "metadata": {},
   "outputs": [
    {
     "data": {
      "text/html": [
       "<div>\n",
       "<style scoped>\n",
       "    .dataframe tbody tr th:only-of-type {\n",
       "        vertical-align: middle;\n",
       "    }\n",
       "\n",
       "    .dataframe tbody tr th {\n",
       "        vertical-align: top;\n",
       "    }\n",
       "\n",
       "    .dataframe thead th {\n",
       "        text-align: right;\n",
       "    }\n",
       "</style>\n",
       "<table border=\"1\" class=\"dataframe\">\n",
       "  <thead>\n",
       "    <tr style=\"text-align: right;\">\n",
       "      <th></th>\n",
       "      <th>row_ID</th>\n",
       "      <th>current_mileage</th>\n",
       "      <th>vehicle_year</th>\n",
       "      <th>car_leather_interior</th>\n",
       "      <th>final_price</th>\n",
       "    </tr>\n",
       "  </thead>\n",
       "  <tbody>\n",
       "    <tr>\n",
       "      <th>count</th>\n",
       "      <td>35000.000000</td>\n",
       "      <td>3.500000e+04</td>\n",
       "      <td>35000.000000</td>\n",
       "      <td>35000.000000</td>\n",
       "      <td>3.500000e+04</td>\n",
       "    </tr>\n",
       "    <tr>\n",
       "      <th>mean</th>\n",
       "      <td>17499.500000</td>\n",
       "      <td>1.969224e+06</td>\n",
       "      <td>2010.651743</td>\n",
       "      <td>0.715486</td>\n",
       "      <td>6.014077e+03</td>\n",
       "    </tr>\n",
       "    <tr>\n",
       "      <th>std</th>\n",
       "      <td>10103.774047</td>\n",
       "      <td>5.682401e+07</td>\n",
       "      <td>12.247792</td>\n",
       "      <td>0.451189</td>\n",
       "      <td>7.341517e+04</td>\n",
       "    </tr>\n",
       "    <tr>\n",
       "      <th>min</th>\n",
       "      <td>0.000000</td>\n",
       "      <td>0.000000e+00</td>\n",
       "      <td>0.000000</td>\n",
       "      <td>0.000000</td>\n",
       "      <td>0.000000e+00</td>\n",
       "    </tr>\n",
       "    <tr>\n",
       "      <th>25%</th>\n",
       "      <td>8749.750000</td>\n",
       "      <td>7.145400e+04</td>\n",
       "      <td>2008.000000</td>\n",
       "      <td>0.000000</td>\n",
       "      <td>1.350000e+03</td>\n",
       "    </tr>\n",
       "    <tr>\n",
       "      <th>50%</th>\n",
       "      <td>17499.500000</td>\n",
       "      <td>1.290000e+05</td>\n",
       "      <td>2012.000000</td>\n",
       "      <td>1.000000</td>\n",
       "      <td>3.900000e+03</td>\n",
       "    </tr>\n",
       "    <tr>\n",
       "      <th>75%</th>\n",
       "      <td>26249.250000</td>\n",
       "      <td>1.900000e+05</td>\n",
       "      <td>2014.000000</td>\n",
       "      <td>1.000000</td>\n",
       "      <td>7.000000e+03</td>\n",
       "    </tr>\n",
       "    <tr>\n",
       "      <th>max</th>\n",
       "      <td>34999.000000</td>\n",
       "      <td>2.147484e+09</td>\n",
       "      <td>2020.000000</td>\n",
       "      <td>1.000000</td>\n",
       "      <td>8.388607e+06</td>\n",
       "    </tr>\n",
       "  </tbody>\n",
       "</table>\n",
       "</div>"
      ],
      "text/plain": [
       "             row_ID  current_mileage  vehicle_year  car_leather_interior  \\\n",
       "count  35000.000000     3.500000e+04  35000.000000          35000.000000   \n",
       "mean   17499.500000     1.969224e+06   2010.651743              0.715486   \n",
       "std    10103.774047     5.682401e+07     12.247792              0.451189   \n",
       "min        0.000000     0.000000e+00      0.000000              0.000000   \n",
       "25%     8749.750000     7.145400e+04   2008.000000              0.000000   \n",
       "50%    17499.500000     1.290000e+05   2012.000000              1.000000   \n",
       "75%    26249.250000     1.900000e+05   2014.000000              1.000000   \n",
       "max    34999.000000     2.147484e+09   2020.000000              1.000000   \n",
       "\n",
       "        final_price  \n",
       "count  3.500000e+04  \n",
       "mean   6.014077e+03  \n",
       "std    7.341517e+04  \n",
       "min    0.000000e+00  \n",
       "25%    1.350000e+03  \n",
       "50%    3.900000e+03  \n",
       "75%    7.000000e+03  \n",
       "max    8.388607e+06  "
      ]
     },
     "execution_count": 4,
     "metadata": {},
     "output_type": "execute_result"
    }
   ],
   "source": [
    "train_data.describe()"
   ]
  },
  {
   "cell_type": "code",
   "execution_count": 5,
   "id": "d5d33a6b",
   "metadata": {
    "scrolled": true
   },
   "outputs": [
    {
     "data": {
      "text/plain": [
       "Index(['row_ID', 'vehicle_manufacturer', 'vehicle_model', 'vehicle_category',\n",
       "       'current_mileage', 'vehicle_year', 'vehicle_gearbox_type', 'doors_cnt',\n",
       "       'wheels', 'vehicle_color', 'vehicle_interior_color', 'car_vin',\n",
       "       'car_leather_interior', 'deal_type', 'final_price'],\n",
       "      dtype='object')"
      ]
     },
     "execution_count": 5,
     "metadata": {},
     "output_type": "execute_result"
    }
   ],
   "source": [
    "train_data.columns"
   ]
  },
  {
   "cell_type": "code",
   "execution_count": 6,
   "id": "29fd9b5e",
   "metadata": {
    "scrolled": true
   },
   "outputs": [
    {
     "data": {
      "text/plain": [
       "row_ID                      int64\n",
       "vehicle_manufacturer       object\n",
       "vehicle_model              object\n",
       "vehicle_category           object\n",
       "current_mileage             int64\n",
       "vehicle_year                int64\n",
       "vehicle_gearbox_type       object\n",
       "doors_cnt                  object\n",
       "wheels                     object\n",
       "vehicle_color              object\n",
       "vehicle_interior_color     object\n",
       "car_vin                    object\n",
       "car_leather_interior        int64\n",
       "deal_type                  object\n",
       "final_price               float64\n",
       "dtype: object"
      ]
     },
     "execution_count": 6,
     "metadata": {},
     "output_type": "execute_result"
    }
   ],
   "source": [
    "train_data.dtypes"
   ]
  },
  {
   "cell_type": "markdown",
   "id": "48ab8f60",
   "metadata": {},
   "source": [
    "Посмотрим, какие типы принимают признаки. Заметим, что doors_cnt -- это строка, поэтому к нему придётся использовать one-hot кодирование, либо переводить его в float. Попробуем применить оба подхода и сравним результат"
   ]
  },
  {
   "cell_type": "code",
   "execution_count": 7,
   "id": "534a7d0f",
   "metadata": {},
   "outputs": [
    {
     "data": {
      "text/plain": [
       "For Sale    34372\n",
       "For Rent      628\n",
       "Name: deal_type, dtype: int64"
      ]
     },
     "execution_count": 7,
     "metadata": {},
     "output_type": "execute_result"
    }
   ],
   "source": [
    "train_data['deal_type'].value_counts()"
   ]
  },
  {
   "cell_type": "code",
   "execution_count": 8,
   "id": "b1e1915a",
   "metadata": {},
   "outputs": [],
   "source": [
    "train_data = train_data.query(\"deal_type == 'For Sale'\")"
   ]
  },
  {
   "cell_type": "code",
   "execution_count": 9,
   "id": "15541e1c",
   "metadata": {},
   "outputs": [
    {
     "data": {
      "text/plain": [
       "For Sale    34372\n",
       "Name: deal_type, dtype: int64"
      ]
     },
     "execution_count": 9,
     "metadata": {},
     "output_type": "execute_result"
    }
   ],
   "source": [
    "train_data['deal_type'].value_counts()"
   ]
  },
  {
   "cell_type": "code",
   "execution_count": 10,
   "id": "25be9253",
   "metadata": {},
   "outputs": [
    {
     "data": {
      "text/html": [
       "<div>\n",
       "<style scoped>\n",
       "    .dataframe tbody tr th:only-of-type {\n",
       "        vertical-align: middle;\n",
       "    }\n",
       "\n",
       "    .dataframe tbody tr th {\n",
       "        vertical-align: top;\n",
       "    }\n",
       "\n",
       "    .dataframe thead th {\n",
       "        text-align: right;\n",
       "    }\n",
       "</style>\n",
       "<table border=\"1\" class=\"dataframe\">\n",
       "  <thead>\n",
       "    <tr style=\"text-align: right;\">\n",
       "      <th></th>\n",
       "      <th>row_ID</th>\n",
       "      <th>current_mileage</th>\n",
       "      <th>vehicle_year</th>\n",
       "      <th>car_leather_interior</th>\n",
       "      <th>final_price</th>\n",
       "    </tr>\n",
       "  </thead>\n",
       "  <tbody>\n",
       "    <tr>\n",
       "      <th>count</th>\n",
       "      <td>34372.000000</td>\n",
       "      <td>3.437200e+04</td>\n",
       "      <td>34372.000000</td>\n",
       "      <td>34372.000000</td>\n",
       "      <td>3.437200e+04</td>\n",
       "    </tr>\n",
       "    <tr>\n",
       "      <th>mean</th>\n",
       "      <td>17504.892209</td>\n",
       "      <td>1.907385e+06</td>\n",
       "      <td>2010.707262</td>\n",
       "      <td>0.722449</td>\n",
       "      <td>6.119695e+03</td>\n",
       "    </tr>\n",
       "    <tr>\n",
       "      <th>std</th>\n",
       "      <td>10096.028634</td>\n",
       "      <td>5.584060e+07</td>\n",
       "      <td>12.312176</td>\n",
       "      <td>0.447797</td>\n",
       "      <td>7.407840e+04</td>\n",
       "    </tr>\n",
       "    <tr>\n",
       "      <th>min</th>\n",
       "      <td>0.000000</td>\n",
       "      <td>0.000000e+00</td>\n",
       "      <td>0.000000</td>\n",
       "      <td>0.000000</td>\n",
       "      <td>0.000000e+00</td>\n",
       "    </tr>\n",
       "    <tr>\n",
       "      <th>25%</th>\n",
       "      <td>8764.750000</td>\n",
       "      <td>7.149500e+04</td>\n",
       "      <td>2009.000000</td>\n",
       "      <td>0.000000</td>\n",
       "      <td>1.500000e+03</td>\n",
       "    </tr>\n",
       "    <tr>\n",
       "      <th>50%</th>\n",
       "      <td>17510.500000</td>\n",
       "      <td>1.290000e+05</td>\n",
       "      <td>2012.000000</td>\n",
       "      <td>1.000000</td>\n",
       "      <td>4.000000e+03</td>\n",
       "    </tr>\n",
       "    <tr>\n",
       "      <th>75%</th>\n",
       "      <td>26239.250000</td>\n",
       "      <td>1.905522e+05</td>\n",
       "      <td>2014.000000</td>\n",
       "      <td>1.000000</td>\n",
       "      <td>7.000000e+03</td>\n",
       "    </tr>\n",
       "    <tr>\n",
       "      <th>max</th>\n",
       "      <td>34999.000000</td>\n",
       "      <td>2.147484e+09</td>\n",
       "      <td>2020.000000</td>\n",
       "      <td>1.000000</td>\n",
       "      <td>8.388607e+06</td>\n",
       "    </tr>\n",
       "  </tbody>\n",
       "</table>\n",
       "</div>"
      ],
      "text/plain": [
       "             row_ID  current_mileage  vehicle_year  car_leather_interior  \\\n",
       "count  34372.000000     3.437200e+04  34372.000000          34372.000000   \n",
       "mean   17504.892209     1.907385e+06   2010.707262              0.722449   \n",
       "std    10096.028634     5.584060e+07     12.312176              0.447797   \n",
       "min        0.000000     0.000000e+00      0.000000              0.000000   \n",
       "25%     8764.750000     7.149500e+04   2009.000000              0.000000   \n",
       "50%    17510.500000     1.290000e+05   2012.000000              1.000000   \n",
       "75%    26239.250000     1.905522e+05   2014.000000              1.000000   \n",
       "max    34999.000000     2.147484e+09   2020.000000              1.000000   \n",
       "\n",
       "        final_price  \n",
       "count  3.437200e+04  \n",
       "mean   6.119695e+03  \n",
       "std    7.407840e+04  \n",
       "min    0.000000e+00  \n",
       "25%    1.500000e+03  \n",
       "50%    4.000000e+03  \n",
       "75%    7.000000e+03  \n",
       "max    8.388607e+06  "
      ]
     },
     "execution_count": 10,
     "metadata": {},
     "output_type": "execute_result"
    }
   ],
   "source": [
    "train_data.describe()"
   ]
  },
  {
   "cell_type": "code",
   "execution_count": 11,
   "id": "815f91df",
   "metadata": {},
   "outputs": [],
   "source": [
    "train_data = train_data.query(\"final_price >= 200\")"
   ]
  },
  {
   "cell_type": "code",
   "execution_count": 12,
   "id": "1ac3660d",
   "metadata": {},
   "outputs": [
    {
     "data": {
      "text/html": [
       "<div>\n",
       "<style scoped>\n",
       "    .dataframe tbody tr th:only-of-type {\n",
       "        vertical-align: middle;\n",
       "    }\n",
       "\n",
       "    .dataframe tbody tr th {\n",
       "        vertical-align: top;\n",
       "    }\n",
       "\n",
       "    .dataframe thead th {\n",
       "        text-align: right;\n",
       "    }\n",
       "</style>\n",
       "<table border=\"1\" class=\"dataframe\">\n",
       "  <thead>\n",
       "    <tr style=\"text-align: right;\">\n",
       "      <th></th>\n",
       "      <th>row_ID</th>\n",
       "      <th>current_mileage</th>\n",
       "      <th>vehicle_year</th>\n",
       "      <th>car_leather_interior</th>\n",
       "      <th>final_price</th>\n",
       "    </tr>\n",
       "  </thead>\n",
       "  <tbody>\n",
       "    <tr>\n",
       "      <th>count</th>\n",
       "      <td>31331.000000</td>\n",
       "      <td>3.133100e+04</td>\n",
       "      <td>31331.000000</td>\n",
       "      <td>31331.000000</td>\n",
       "      <td>3.133100e+04</td>\n",
       "    </tr>\n",
       "    <tr>\n",
       "      <th>mean</th>\n",
       "      <td>17508.256328</td>\n",
       "      <td>2.006425e+06</td>\n",
       "      <td>2010.575851</td>\n",
       "      <td>0.697520</td>\n",
       "      <td>6.703370e+03</td>\n",
       "    </tr>\n",
       "    <tr>\n",
       "      <th>std</th>\n",
       "      <td>10102.622331</td>\n",
       "      <td>5.721516e+07</td>\n",
       "      <td>5.965382</td>\n",
       "      <td>0.459339</td>\n",
       "      <td>7.756548e+04</td>\n",
       "    </tr>\n",
       "    <tr>\n",
       "      <th>min</th>\n",
       "      <td>0.000000</td>\n",
       "      <td>0.000000e+00</td>\n",
       "      <td>1940.000000</td>\n",
       "      <td>0.000000</td>\n",
       "      <td>2.000000e+02</td>\n",
       "    </tr>\n",
       "    <tr>\n",
       "      <th>25%</th>\n",
       "      <td>8736.500000</td>\n",
       "      <td>7.120050e+04</td>\n",
       "      <td>2008.000000</td>\n",
       "      <td>0.000000</td>\n",
       "      <td>2.209000e+03</td>\n",
       "    </tr>\n",
       "    <tr>\n",
       "      <th>50%</th>\n",
       "      <td>17524.000000</td>\n",
       "      <td>1.265990e+05</td>\n",
       "      <td>2012.000000</td>\n",
       "      <td>1.000000</td>\n",
       "      <td>4.486000e+03</td>\n",
       "    </tr>\n",
       "    <tr>\n",
       "      <th>75%</th>\n",
       "      <td>26249.500000</td>\n",
       "      <td>1.870000e+05</td>\n",
       "      <td>2014.000000</td>\n",
       "      <td>1.000000</td>\n",
       "      <td>7.500000e+03</td>\n",
       "    </tr>\n",
       "    <tr>\n",
       "      <th>max</th>\n",
       "      <td>34999.000000</td>\n",
       "      <td>2.147484e+09</td>\n",
       "      <td>2020.000000</td>\n",
       "      <td>1.000000</td>\n",
       "      <td>8.388607e+06</td>\n",
       "    </tr>\n",
       "  </tbody>\n",
       "</table>\n",
       "</div>"
      ],
      "text/plain": [
       "             row_ID  current_mileage  vehicle_year  car_leather_interior  \\\n",
       "count  31331.000000     3.133100e+04  31331.000000          31331.000000   \n",
       "mean   17508.256328     2.006425e+06   2010.575851              0.697520   \n",
       "std    10102.622331     5.721516e+07      5.965382              0.459339   \n",
       "min        0.000000     0.000000e+00   1940.000000              0.000000   \n",
       "25%     8736.500000     7.120050e+04   2008.000000              0.000000   \n",
       "50%    17524.000000     1.265990e+05   2012.000000              1.000000   \n",
       "75%    26249.500000     1.870000e+05   2014.000000              1.000000   \n",
       "max    34999.000000     2.147484e+09   2020.000000              1.000000   \n",
       "\n",
       "        final_price  \n",
       "count  3.133100e+04  \n",
       "mean   6.703370e+03  \n",
       "std    7.756548e+04  \n",
       "min    2.000000e+02  \n",
       "25%    2.209000e+03  \n",
       "50%    4.486000e+03  \n",
       "75%    7.500000e+03  \n",
       "max    8.388607e+06  "
      ]
     },
     "execution_count": 12,
     "metadata": {},
     "output_type": "execute_result"
    }
   ],
   "source": [
    "train_data.describe()"
   ]
  },
  {
   "cell_type": "markdown",
   "id": "43b81106",
   "metadata": {},
   "source": [
    "Посмотрели, какие значения принимает признак \"deal_type\". В датасете есть 628 автомобилей, сдающихся в аренду, их нужно выбросить, если в качестве целевой переменной брать стоимость продажи\n"
   ]
  },
  {
   "cell_type": "code",
   "execution_count": 13,
   "id": "d2b23757",
   "metadata": {},
   "outputs": [
    {
     "data": {
      "text/plain": [
       "count    3.133100e+04\n",
       "mean     2.006425e+06\n",
       "std      5.721516e+07\n",
       "min      0.000000e+00\n",
       "25%      7.120050e+04\n",
       "50%      1.265990e+05\n",
       "75%      1.870000e+05\n",
       "max      2.147484e+09\n",
       "Name: current_mileage, dtype: float64"
      ]
     },
     "execution_count": 13,
     "metadata": {},
     "output_type": "execute_result"
    }
   ],
   "source": [
    "train_data['current_mileage'].describe()"
   ]
  },
  {
   "cell_type": "markdown",
   "id": "13ffcd6d",
   "metadata": {},
   "source": [
    "Посмотрим на значения пробега: видно, что среднее $1.9 \\cdot 10^6$, а максимальное значение $2.14 \\cdot 10^9$, скорее всего, есть выбросы по этому признаку, с ними нужно будет что-то сделать"
   ]
  },
  {
   "cell_type": "code",
   "execution_count": 14,
   "id": "8cb089a3",
   "metadata": {
    "scrolled": true
   },
   "outputs": [
    {
     "data": {
      "text/plain": [
       "row_ID                    152\n",
       "vehicle_manufacturer      152\n",
       "vehicle_model             152\n",
       "vehicle_category          152\n",
       "current_mileage           152\n",
       "vehicle_year              152\n",
       "vehicle_gearbox_type      152\n",
       "doors_cnt                 152\n",
       "wheels                    152\n",
       "vehicle_color             152\n",
       "vehicle_interior_color    152\n",
       "car_vin                    19\n",
       "car_leather_interior      152\n",
       "deal_type                 152\n",
       "final_price               152\n",
       "dtype: int64"
      ]
     },
     "execution_count": 14,
     "metadata": {},
     "output_type": "execute_result"
    }
   ],
   "source": [
    "train_data[train_data['current_mileage'] >= 10**6].count()"
   ]
  },
  {
   "cell_type": "markdown",
   "id": "19b1679d",
   "metadata": {},
   "source": [
    "Заметим, что всего у 74 автомобилей значение 'current_mileage' $\\geq 10^7$, поэтому можно попробовать выбросить все эти значения "
   ]
  },
  {
   "cell_type": "code",
   "execution_count": 15,
   "id": "8b52a3e7",
   "metadata": {},
   "outputs": [],
   "source": [
    "train_data = train_data.query(\"current_mileage <= 1000000\")"
   ]
  },
  {
   "cell_type": "code",
   "execution_count": 16,
   "id": "fdd1d077",
   "metadata": {},
   "outputs": [
    {
     "data": {
      "text/plain": [
       "count      31181.000000\n",
       "mean      138696.510375\n",
       "std       100078.857135\n",
       "min            0.000000\n",
       "25%        71000.000000\n",
       "50%       126000.000000\n",
       "75%       185881.000000\n",
       "max      1000000.000000\n",
       "Name: current_mileage, dtype: float64"
      ]
     },
     "execution_count": 16,
     "metadata": {},
     "output_type": "execute_result"
    }
   ],
   "source": [
    "train_data['current_mileage'].describe()"
   ]
  },
  {
   "cell_type": "code",
   "execution_count": 17,
   "id": "fb4617c9",
   "metadata": {},
   "outputs": [
    {
     "data": {
      "text/plain": [
       "count    31181.000000\n",
       "mean      2010.621308\n",
       "std          5.922361\n",
       "min       1940.000000\n",
       "25%       2008.000000\n",
       "50%       2012.000000\n",
       "75%       2014.000000\n",
       "max       2020.000000\n",
       "Name: vehicle_year, dtype: float64"
      ]
     },
     "execution_count": 17,
     "metadata": {},
     "output_type": "execute_result"
    }
   ],
   "source": [
    "train_data['vehicle_year'].describe()"
   ]
  },
  {
   "cell_type": "code",
   "execution_count": 18,
   "id": "8cf21627",
   "metadata": {},
   "outputs": [
    {
     "data": {
      "text/plain": [
       "row_ID                    0\n",
       "vehicle_manufacturer      0\n",
       "vehicle_model             0\n",
       "vehicle_category          0\n",
       "current_mileage           0\n",
       "vehicle_year              0\n",
       "vehicle_gearbox_type      0\n",
       "doors_cnt                 0\n",
       "wheels                    0\n",
       "vehicle_color             0\n",
       "vehicle_interior_color    0\n",
       "car_vin                   0\n",
       "car_leather_interior      0\n",
       "deal_type                 0\n",
       "final_price               0\n",
       "dtype: int64"
      ]
     },
     "execution_count": 18,
     "metadata": {},
     "output_type": "execute_result"
    }
   ],
   "source": [
    "train_data[train_data['vehicle_year'] <= 1920].count()"
   ]
  },
  {
   "cell_type": "markdown",
   "id": "a9aca8af",
   "metadata": {},
   "source": [
    "Также есть выбросы в 'vehicle_year'. Будем рассматривать только те автомобили, которые выпущены раньше 1980-го года"
   ]
  },
  {
   "cell_type": "code",
   "execution_count": 19,
   "id": "a35b6bac",
   "metadata": {},
   "outputs": [],
   "source": [
    "train_data = train_data.query(\"vehicle_year >= 1940\")"
   ]
  },
  {
   "cell_type": "code",
   "execution_count": 20,
   "id": "6c4c6335",
   "metadata": {},
   "outputs": [
    {
     "data": {
      "text/plain": [
       "count    31181.000000\n",
       "mean      2010.621308\n",
       "std          5.922361\n",
       "min       1940.000000\n",
       "25%       2008.000000\n",
       "50%       2012.000000\n",
       "75%       2014.000000\n",
       "max       2020.000000\n",
       "Name: vehicle_year, dtype: float64"
      ]
     },
     "execution_count": 20,
     "metadata": {},
     "output_type": "execute_result"
    }
   ],
   "source": [
    "train_data['vehicle_year'].describe()"
   ]
  },
  {
   "cell_type": "code",
   "execution_count": 21,
   "id": "530bee35",
   "metadata": {},
   "outputs": [],
   "source": [
    "%matplotlib inline\n",
    "import matplotlib.pyplot as plt\n",
    "import seaborn as sns"
   ]
  },
  {
   "cell_type": "code",
   "execution_count": 22,
   "id": "260caba5",
   "metadata": {},
   "outputs": [
    {
     "data": {
      "image/png": "[encoded data removed]",
      "text/plain": [
       "<Figure size 640x480 with 1 Axes>"
      ]
     },
     "metadata": {},
     "output_type": "display_data"
    }
   ],
   "source": [
    "plt.hist(train_data['vehicle_year'])\n",
    "plt.show()"
   ]
  },
  {
   "cell_type": "code",
   "execution_count": 23,
   "id": "a660621c",
   "metadata": {},
   "outputs": [
    {
     "data": {
      "image/png": "[encoded data removed]",
      "text/plain": [
       "<Figure size 640x480 with 1 Axes>"
      ]
     },
     "metadata": {},
     "output_type": "display_data"
    }
   ],
   "source": [
    "plt.hist(train_data['current_mileage'])\n",
    "plt.show()"
   ]
  },
  {
   "cell_type": "markdown",
   "id": "cd2368d4",
   "metadata": {},
   "source": [
    "Из датасета удалим столбец с ID автомобиля"
   ]
  },
  {
   "cell_type": "code",
   "execution_count": 24,
   "id": "85aa416d",
   "metadata": {},
   "outputs": [],
   "source": [
    "columns_to_drop = ['row_ID']\n",
    "\n",
    "train_data = train_data.drop(columns = columns_to_drop)"
   ]
  },
  {
   "cell_type": "code",
   "execution_count": 25,
   "id": "9ed6ff1f",
   "metadata": {
    "scrolled": true
   },
   "outputs": [
    {
     "data": {
      "text/html": [
       "<div>\n",
       "<style scoped>\n",
       "    .dataframe tbody tr th:only-of-type {\n",
       "        vertical-align: middle;\n",
       "    }\n",
       "\n",
       "    .dataframe tbody tr th {\n",
       "        vertical-align: top;\n",
       "    }\n",
       "\n",
       "    .dataframe thead th {\n",
       "        text-align: right;\n",
       "    }\n",
       "</style>\n",
       "<table border=\"1\" class=\"dataframe\">\n",
       "  <thead>\n",
       "    <tr style=\"text-align: right;\">\n",
       "      <th></th>\n",
       "      <th>vehicle_manufacturer</th>\n",
       "      <th>vehicle_model</th>\n",
       "      <th>vehicle_category</th>\n",
       "      <th>current_mileage</th>\n",
       "      <th>vehicle_year</th>\n",
       "      <th>vehicle_gearbox_type</th>\n",
       "      <th>doors_cnt</th>\n",
       "      <th>wheels</th>\n",
       "      <th>vehicle_color</th>\n",
       "      <th>vehicle_interior_color</th>\n",
       "      <th>car_vin</th>\n",
       "      <th>car_leather_interior</th>\n",
       "      <th>deal_type</th>\n",
       "      <th>final_price</th>\n",
       "    </tr>\n",
       "  </thead>\n",
       "  <tbody>\n",
       "    <tr>\n",
       "      <th>0</th>\n",
       "      <td>TOYOTA</td>\n",
       "      <td>Aqua s</td>\n",
       "      <td>Sedan</td>\n",
       "      <td>133000</td>\n",
       "      <td>2014</td>\n",
       "      <td>Automatic</td>\n",
       "      <td>4/5</td>\n",
       "      <td>Right-hand drive</td>\n",
       "      <td>Silver</td>\n",
       "      <td>Black</td>\n",
       "      <td>NaN</td>\n",
       "      <td>0</td>\n",
       "      <td>For Sale</td>\n",
       "      <td>3650.0</td>\n",
       "    </tr>\n",
       "    <tr>\n",
       "      <th>1</th>\n",
       "      <td>MERCEDES-BENZ</td>\n",
       "      <td>C 220</td>\n",
       "      <td>Sedan</td>\n",
       "      <td>24500</td>\n",
       "      <td>2010</td>\n",
       "      <td>Manual</td>\n",
       "      <td>4/5</td>\n",
       "      <td>Left wheel</td>\n",
       "      <td>Silver</td>\n",
       "      <td>Black</td>\n",
       "      <td>NaN</td>\n",
       "      <td>0</td>\n",
       "      <td>For Sale</td>\n",
       "      <td>6800.0</td>\n",
       "    </tr>\n",
       "    <tr>\n",
       "      <th>2</th>\n",
       "      <td>HYUNDAI</td>\n",
       "      <td>Veloster</td>\n",
       "      <td>Hatchback</td>\n",
       "      <td>31000</td>\n",
       "      <td>2016</td>\n",
       "      <td>Tiptronic</td>\n",
       "      <td>2/3</td>\n",
       "      <td>Left wheel</td>\n",
       "      <td>Silver</td>\n",
       "      <td>Black</td>\n",
       "      <td>KMHTC6AE3GU293912</td>\n",
       "      <td>1</td>\n",
       "      <td>For Sale</td>\n",
       "      <td>6300.0</td>\n",
       "    </tr>\n",
       "    <tr>\n",
       "      <th>3</th>\n",
       "      <td>HYUNDAI</td>\n",
       "      <td>Santa FE</td>\n",
       "      <td>Jeep</td>\n",
       "      <td>115459</td>\n",
       "      <td>2015</td>\n",
       "      <td>Automatic</td>\n",
       "      <td>4/5</td>\n",
       "      <td>Left wheel</td>\n",
       "      <td>Blue</td>\n",
       "      <td>Black</td>\n",
       "      <td>NaN</td>\n",
       "      <td>1</td>\n",
       "      <td>For Sale</td>\n",
       "      <td>14488.0</td>\n",
       "    </tr>\n",
       "    <tr>\n",
       "      <th>4</th>\n",
       "      <td>TOYOTA</td>\n",
       "      <td>CHR</td>\n",
       "      <td>Jeep</td>\n",
       "      <td>18950</td>\n",
       "      <td>2019</td>\n",
       "      <td>Automatic</td>\n",
       "      <td>4/5</td>\n",
       "      <td>Left wheel</td>\n",
       "      <td>Black</td>\n",
       "      <td>NaN</td>\n",
       "      <td>JTNKHMBX7K1030253</td>\n",
       "      <td>1</td>\n",
       "      <td>For Sale</td>\n",
       "      <td>5000.0</td>\n",
       "    </tr>\n",
       "  </tbody>\n",
       "</table>\n",
       "</div>"
      ],
      "text/plain": [
       "  vehicle_manufacturer vehicle_model vehicle_category  current_mileage  \\\n",
       "0               TOYOTA        Aqua s            Sedan           133000   \n",
       "1        MERCEDES-BENZ         C 220            Sedan            24500   \n",
       "2              HYUNDAI      Veloster        Hatchback            31000   \n",
       "3              HYUNDAI      Santa FE             Jeep           115459   \n",
       "4               TOYOTA           CHR             Jeep            18950   \n",
       "\n",
       "   vehicle_year vehicle_gearbox_type doors_cnt                 wheels  \\\n",
       "0          2014            Automatic       4/5    Right-hand drive      \n",
       "1          2010               Manual       4/5           Left wheel     \n",
       "2          2016            Tiptronic       2/3           Left wheel     \n",
       "3          2015            Automatic       4/5           Left wheel     \n",
       "4          2019            Automatic       4/5           Left wheel     \n",
       "\n",
       "  vehicle_color vehicle_interior_color              car_vin  \\\n",
       "0       Silver                  Black                   NaN   \n",
       "1       Silver                  Black                   NaN   \n",
       "2       Silver                  Black    KMHTC6AE3GU293912    \n",
       "3         Blue                  Black                   NaN   \n",
       "4        Black                     NaN   JTNKHMBX7K1030253    \n",
       "\n",
       "   car_leather_interior deal_type  final_price  \n",
       "0                     0  For Sale       3650.0  \n",
       "1                     0  For Sale       6800.0  \n",
       "2                     1  For Sale       6300.0  \n",
       "3                     1  For Sale      14488.0  \n",
       "4                     1  For Sale       5000.0  "
      ]
     },
     "execution_count": 25,
     "metadata": {},
     "output_type": "execute_result"
    }
   ],
   "source": [
    "train_data.head()"
   ]
  },
  {
   "cell_type": "code",
   "execution_count": 26,
   "id": "87926906",
   "metadata": {},
   "outputs": [],
   "source": [
    "train_data['car_vin'] = train_data['car_vin'].replace(np.nan, 0)\n",
    "train_data['car_vin'] = train_data['car_vin'].replace('.*', 1, regex = True)"
   ]
  },
  {
   "cell_type": "code",
   "execution_count": 27,
   "id": "9a1acf22",
   "metadata": {},
   "outputs": [
    {
     "data": {
      "text/html": [
       "<div>\n",
       "<style scoped>\n",
       "    .dataframe tbody tr th:only-of-type {\n",
       "        vertical-align: middle;\n",
       "    }\n",
       "\n",
       "    .dataframe tbody tr th {\n",
       "        vertical-align: top;\n",
       "    }\n",
       "\n",
       "    .dataframe thead th {\n",
       "        text-align: right;\n",
       "    }\n",
       "</style>\n",
       "<table border=\"1\" class=\"dataframe\">\n",
       "  <thead>\n",
       "    <tr style=\"text-align: right;\">\n",
       "      <th></th>\n",
       "      <th>vehicle_manufacturer</th>\n",
       "      <th>vehicle_model</th>\n",
       "      <th>vehicle_category</th>\n",
       "      <th>current_mileage</th>\n",
       "      <th>vehicle_year</th>\n",
       "      <th>vehicle_gearbox_type</th>\n",
       "      <th>doors_cnt</th>\n",
       "      <th>wheels</th>\n",
       "      <th>vehicle_color</th>\n",
       "      <th>vehicle_interior_color</th>\n",
       "      <th>car_vin</th>\n",
       "      <th>car_leather_interior</th>\n",
       "      <th>deal_type</th>\n",
       "      <th>final_price</th>\n",
       "    </tr>\n",
       "  </thead>\n",
       "  <tbody>\n",
       "    <tr>\n",
       "      <th>0</th>\n",
       "      <td>TOYOTA</td>\n",
       "      <td>Aqua s</td>\n",
       "      <td>Sedan</td>\n",
       "      <td>133000</td>\n",
       "      <td>2014</td>\n",
       "      <td>Automatic</td>\n",
       "      <td>4/5</td>\n",
       "      <td>Right-hand drive</td>\n",
       "      <td>Silver</td>\n",
       "      <td>Black</td>\n",
       "      <td>0</td>\n",
       "      <td>0</td>\n",
       "      <td>For Sale</td>\n",
       "      <td>3650.0</td>\n",
       "    </tr>\n",
       "    <tr>\n",
       "      <th>1</th>\n",
       "      <td>MERCEDES-BENZ</td>\n",
       "      <td>C 220</td>\n",
       "      <td>Sedan</td>\n",
       "      <td>24500</td>\n",
       "      <td>2010</td>\n",
       "      <td>Manual</td>\n",
       "      <td>4/5</td>\n",
       "      <td>Left wheel</td>\n",
       "      <td>Silver</td>\n",
       "      <td>Black</td>\n",
       "      <td>0</td>\n",
       "      <td>0</td>\n",
       "      <td>For Sale</td>\n",
       "      <td>6800.0</td>\n",
       "    </tr>\n",
       "    <tr>\n",
       "      <th>2</th>\n",
       "      <td>HYUNDAI</td>\n",
       "      <td>Veloster</td>\n",
       "      <td>Hatchback</td>\n",
       "      <td>31000</td>\n",
       "      <td>2016</td>\n",
       "      <td>Tiptronic</td>\n",
       "      <td>2/3</td>\n",
       "      <td>Left wheel</td>\n",
       "      <td>Silver</td>\n",
       "      <td>Black</td>\n",
       "      <td>1</td>\n",
       "      <td>1</td>\n",
       "      <td>For Sale</td>\n",
       "      <td>6300.0</td>\n",
       "    </tr>\n",
       "    <tr>\n",
       "      <th>3</th>\n",
       "      <td>HYUNDAI</td>\n",
       "      <td>Santa FE</td>\n",
       "      <td>Jeep</td>\n",
       "      <td>115459</td>\n",
       "      <td>2015</td>\n",
       "      <td>Automatic</td>\n",
       "      <td>4/5</td>\n",
       "      <td>Left wheel</td>\n",
       "      <td>Blue</td>\n",
       "      <td>Black</td>\n",
       "      <td>0</td>\n",
       "      <td>1</td>\n",
       "      <td>For Sale</td>\n",
       "      <td>14488.0</td>\n",
       "    </tr>\n",
       "    <tr>\n",
       "      <th>4</th>\n",
       "      <td>TOYOTA</td>\n",
       "      <td>CHR</td>\n",
       "      <td>Jeep</td>\n",
       "      <td>18950</td>\n",
       "      <td>2019</td>\n",
       "      <td>Automatic</td>\n",
       "      <td>4/5</td>\n",
       "      <td>Left wheel</td>\n",
       "      <td>Black</td>\n",
       "      <td>NaN</td>\n",
       "      <td>1</td>\n",
       "      <td>1</td>\n",
       "      <td>For Sale</td>\n",
       "      <td>5000.0</td>\n",
       "    </tr>\n",
       "  </tbody>\n",
       "</table>\n",
       "</div>"
      ],
      "text/plain": [
       "  vehicle_manufacturer vehicle_model vehicle_category  current_mileage  \\\n",
       "0               TOYOTA        Aqua s            Sedan           133000   \n",
       "1        MERCEDES-BENZ         C 220            Sedan            24500   \n",
       "2              HYUNDAI      Veloster        Hatchback            31000   \n",
       "3              HYUNDAI      Santa FE             Jeep           115459   \n",
       "4               TOYOTA           CHR             Jeep            18950   \n",
       "\n",
       "   vehicle_year vehicle_gearbox_type doors_cnt                 wheels  \\\n",
       "0          2014            Automatic       4/5    Right-hand drive      \n",
       "1          2010               Manual       4/5           Left wheel     \n",
       "2          2016            Tiptronic       2/3           Left wheel     \n",
       "3          2015            Automatic       4/5           Left wheel     \n",
       "4          2019            Automatic       4/5           Left wheel     \n",
       "\n",
       "  vehicle_color vehicle_interior_color  car_vin  car_leather_interior  \\\n",
       "0       Silver                  Black         0                     0   \n",
       "1       Silver                  Black         0                     0   \n",
       "2       Silver                  Black         1                     1   \n",
       "3         Blue                  Black         0                     1   \n",
       "4        Black                     NaN        1                     1   \n",
       "\n",
       "  deal_type  final_price  \n",
       "0  For Sale       3650.0  \n",
       "1  For Sale       6800.0  \n",
       "2  For Sale       6300.0  \n",
       "3  For Sale      14488.0  \n",
       "4  For Sale       5000.0  "
      ]
     },
     "execution_count": 27,
     "metadata": {},
     "output_type": "execute_result"
    }
   ],
   "source": [
    "train_data.head()"
   ]
  },
  {
   "cell_type": "code",
   "execution_count": 28,
   "id": "2c3c33dc",
   "metadata": {},
   "outputs": [],
   "source": [
    "train_data = train_data.dropna()\n",
    "\n",
    "train_data = train_data.drop(columns = ['deal_type'])\n",
    "\n",
    "y = train_data['final_price']\n",
    "X = train_data.drop(columns = ['final_price'])\n",
    "\n",
    "X_train, X_test, y_train, y_test = train_test_split(X, y, train_size = 0.65, random_state = 42)"
   ]
  },
  {
   "cell_type": "code",
   "execution_count": 29,
   "id": "1b4c9259",
   "metadata": {},
   "outputs": [],
   "source": [
    "from sklearn.preprocessing import OneHotEncoder\n",
    "from sklearn.compose import ColumnTransformer\n",
    "from sklearn.preprocessing import StandardScaler\n",
    "from sklearn.pipeline import Pipeline"
   ]
  },
  {
   "cell_type": "code",
   "execution_count": 30,
   "id": "92ef1c06",
   "metadata": {},
   "outputs": [],
   "source": [
    "numeric_data = X_train.select_dtypes([np.number])\n",
    "numeric_features = numeric_data.columns\n",
    "\n",
    "categorical_data = X_train.select_dtypes([object])\n",
    "categorical_features = categorical_data.columns"
   ]
  },
  {
   "cell_type": "code",
   "execution_count": 31,
   "id": "52ce8094",
   "metadata": {
    "scrolled": true
   },
   "outputs": [],
   "source": [
    "column_transform = ColumnTransformer([\n",
    "    ('ohe', OneHotEncoder(handle_unknown = \"ignore\"), categorical_features),\n",
    "    ('scaler', StandardScaler(), numeric_features)\n",
    "])\n",
    "\n",
    "pipeline = Pipeline([\n",
    "    ('ohe and scaling', column_transform),\n",
    "    ('Lasso regression', Lasso(alpha = 100))\n",
    "])"
   ]
  },
  {
   "cell_type": "code",
   "execution_count": 32,
   "id": "d879c853",
   "metadata": {},
   "outputs": [],
   "source": [
    "model = pipeline.fit(X_train, y_train)"
   ]
  },
  {
   "cell_type": "code",
   "execution_count": 33,
   "id": "f318a6fe",
   "metadata": {},
   "outputs": [],
   "source": [
    "y_pred = model.predict(X_test)"
   ]
  },
  {
   "cell_type": "code",
   "execution_count": 34,
   "id": "12443ba0",
   "metadata": {},
   "outputs": [
    {
     "name": "stdout",
     "output_type": "stream",
     "text": [
      "5157.156747136057\n"
     ]
    }
   ],
   "source": [
    "from sklearn.metrics import mean_absolute_error\n",
    "\n",
    "MAE_loss = mean_absolute_error(y_test, y_pred)\n",
    "\n",
    "print(MAE_loss)"
   ]
  },
  {
   "cell_type": "markdown",
   "id": "23770bf8",
   "metadata": {},
   "source": [
    "Lasso регуляризация занулила весов:"
   ]
  },
  {
   "cell_type": "code",
   "execution_count": 35,
   "id": "00ba7c40",
   "metadata": {
    "scrolled": true
   },
   "outputs": [
    {
     "data": {
      "text/plain": [
       "1769"
      ]
     },
     "execution_count": 35,
     "metadata": {},
     "output_type": "execute_result"
    }
   ],
   "source": [
    "len(model.named_steps['Lasso regression'].coef_) - np.count_nonzero(model.named_steps['Lasso regression'].coef_)"
   ]
  },
  {
   "cell_type": "markdown",
   "id": "0de22ac1",
   "metadata": {},
   "source": [
    "Попробуем использовать L2 регуляризацию, но для признаков vehicle_manufacturer, vehicle_model, vehicle_color применить target encoding, чтобы не раздувать пространство признаков."
   ]
  },
  {
   "cell_type": "code",
   "execution_count": 36,
   "id": "e1015795",
   "metadata": {},
   "outputs": [],
   "source": [
    "y = train_data['final_price']\n",
    "X = train_data.drop(columns = ['final_price'])\n",
    "\n",
    "\n",
    "categorical_data = X.select_dtypes([object])\n",
    "categorical_features = categorical_data.columns"
   ]
  },
  {
   "cell_type": "code",
   "execution_count": 37,
   "id": "88f67535",
   "metadata": {},
   "outputs": [
    {
     "name": "stdout",
     "output_type": "stream",
     "text": [
      "Index(['vehicle_category', 'vehicle_gearbox_type', 'doors_cnt', 'wheels',\n",
      "       'vehicle_color', 'vehicle_interior_color'],\n",
      "      dtype='object')\n"
     ]
    }
   ],
   "source": [
    "categorical_features = categorical_features.drop(['vehicle_manufacturer'])\n",
    "categorical_features = categorical_features.drop(['vehicle_model'])\n",
    "\n",
    "print(categorical_features)"
   ]
  },
  {
   "cell_type": "code",
   "execution_count": 38,
   "id": "43bfa691",
   "metadata": {},
   "outputs": [
    {
     "data": {
      "text/html": [
       "<div>\n",
       "<style scoped>\n",
       "    .dataframe tbody tr th:only-of-type {\n",
       "        vertical-align: middle;\n",
       "    }\n",
       "\n",
       "    .dataframe tbody tr th {\n",
       "        vertical-align: top;\n",
       "    }\n",
       "\n",
       "    .dataframe thead th {\n",
       "        text-align: right;\n",
       "    }\n",
       "</style>\n",
       "<table border=\"1\" class=\"dataframe\">\n",
       "  <thead>\n",
       "    <tr style=\"text-align: right;\">\n",
       "      <th></th>\n",
       "      <th>vehicle_manufacturer</th>\n",
       "      <th>vehicle_model</th>\n",
       "      <th>vehicle_category</th>\n",
       "      <th>current_mileage</th>\n",
       "      <th>vehicle_year</th>\n",
       "      <th>vehicle_gearbox_type</th>\n",
       "      <th>doors_cnt</th>\n",
       "      <th>wheels</th>\n",
       "      <th>vehicle_color</th>\n",
       "      <th>vehicle_interior_color</th>\n",
       "      <th>car_vin</th>\n",
       "      <th>car_leather_interior</th>\n",
       "    </tr>\n",
       "  </thead>\n",
       "  <tbody>\n",
       "    <tr>\n",
       "      <th>0</th>\n",
       "      <td>5187.160262</td>\n",
       "      <td>Aqua s</td>\n",
       "      <td>Sedan</td>\n",
       "      <td>133000</td>\n",
       "      <td>2014</td>\n",
       "      <td>Automatic</td>\n",
       "      <td>4/5</td>\n",
       "      <td>Right-hand drive</td>\n",
       "      <td>Silver</td>\n",
       "      <td>Black</td>\n",
       "      <td>0</td>\n",
       "      <td>0</td>\n",
       "    </tr>\n",
       "    <tr>\n",
       "      <th>1</th>\n",
       "      <td>7783.107917</td>\n",
       "      <td>C 220</td>\n",
       "      <td>Sedan</td>\n",
       "      <td>24500</td>\n",
       "      <td>2010</td>\n",
       "      <td>Manual</td>\n",
       "      <td>4/5</td>\n",
       "      <td>Left wheel</td>\n",
       "      <td>Silver</td>\n",
       "      <td>Black</td>\n",
       "      <td>0</td>\n",
       "      <td>0</td>\n",
       "    </tr>\n",
       "    <tr>\n",
       "      <th>2</th>\n",
       "      <td>8365.449099</td>\n",
       "      <td>Veloster</td>\n",
       "      <td>Hatchback</td>\n",
       "      <td>31000</td>\n",
       "      <td>2016</td>\n",
       "      <td>Tiptronic</td>\n",
       "      <td>2/3</td>\n",
       "      <td>Left wheel</td>\n",
       "      <td>Silver</td>\n",
       "      <td>Black</td>\n",
       "      <td>1</td>\n",
       "      <td>1</td>\n",
       "    </tr>\n",
       "    <tr>\n",
       "      <th>3</th>\n",
       "      <td>8365.449099</td>\n",
       "      <td>Santa FE</td>\n",
       "      <td>Jeep</td>\n",
       "      <td>115459</td>\n",
       "      <td>2015</td>\n",
       "      <td>Automatic</td>\n",
       "      <td>4/5</td>\n",
       "      <td>Left wheel</td>\n",
       "      <td>Blue</td>\n",
       "      <td>Black</td>\n",
       "      <td>0</td>\n",
       "      <td>1</td>\n",
       "    </tr>\n",
       "    <tr>\n",
       "      <th>6</th>\n",
       "      <td>8365.449099</td>\n",
       "      <td>Tucson</td>\n",
       "      <td>Jeep</td>\n",
       "      <td>173600</td>\n",
       "      <td>2013</td>\n",
       "      <td>Automatic</td>\n",
       "      <td>4/5</td>\n",
       "      <td>Left wheel</td>\n",
       "      <td>Silver</td>\n",
       "      <td>Black</td>\n",
       "      <td>0</td>\n",
       "      <td>1</td>\n",
       "    </tr>\n",
       "  </tbody>\n",
       "</table>\n",
       "</div>"
      ],
      "text/plain": [
       "   vehicle_manufacturer vehicle_model vehicle_category  current_mileage  \\\n",
       "0           5187.160262        Aqua s            Sedan           133000   \n",
       "1           7783.107917         C 220            Sedan            24500   \n",
       "2           8365.449099      Veloster        Hatchback            31000   \n",
       "3           8365.449099      Santa FE             Jeep           115459   \n",
       "6           8365.449099        Tucson             Jeep           173600   \n",
       "\n",
       "   vehicle_year vehicle_gearbox_type doors_cnt                 wheels  \\\n",
       "0          2014            Automatic       4/5    Right-hand drive      \n",
       "1          2010               Manual       4/5           Left wheel     \n",
       "2          2016            Tiptronic       2/3           Left wheel     \n",
       "3          2015            Automatic       4/5           Left wheel     \n",
       "6          2013            Automatic       4/5           Left wheel     \n",
       "\n",
       "  vehicle_color vehicle_interior_color  car_vin  car_leather_interior  \n",
       "0       Silver                  Black         0                     0  \n",
       "1       Silver                  Black         0                     0  \n",
       "2       Silver                  Black         1                     1  \n",
       "3         Blue                  Black         0                     1  \n",
       "6       Silver                  Black         0                     1  "
      ]
     },
     "execution_count": 38,
     "metadata": {},
     "output_type": "execute_result"
    }
   ],
   "source": [
    "target_encoder = ce.TargetEncoder(X['vehicle_manufacturer'])\n",
    "X['vehicle_manufacturer'] = target_encoder.fit_transform(X['vehicle_manufacturer'], y)\n",
    "X.head()"
   ]
  },
  {
   "cell_type": "code",
   "execution_count": 39,
   "id": "970ee8ce",
   "metadata": {
    "scrolled": false
   },
   "outputs": [
    {
     "data": {
      "text/html": [
       "<div>\n",
       "<style scoped>\n",
       "    .dataframe tbody tr th:only-of-type {\n",
       "        vertical-align: middle;\n",
       "    }\n",
       "\n",
       "    .dataframe tbody tr th {\n",
       "        vertical-align: top;\n",
       "    }\n",
       "\n",
       "    .dataframe thead th {\n",
       "        text-align: right;\n",
       "    }\n",
       "</style>\n",
       "<table border=\"1\" class=\"dataframe\">\n",
       "  <thead>\n",
       "    <tr style=\"text-align: right;\">\n",
       "      <th></th>\n",
       "      <th>vehicle_manufacturer</th>\n",
       "      <th>vehicle_model</th>\n",
       "      <th>vehicle_category</th>\n",
       "      <th>current_mileage</th>\n",
       "      <th>vehicle_year</th>\n",
       "      <th>vehicle_gearbox_type</th>\n",
       "      <th>doors_cnt</th>\n",
       "      <th>wheels</th>\n",
       "      <th>vehicle_color</th>\n",
       "      <th>vehicle_interior_color</th>\n",
       "      <th>car_vin</th>\n",
       "      <th>car_leather_interior</th>\n",
       "    </tr>\n",
       "  </thead>\n",
       "  <tbody>\n",
       "    <tr>\n",
       "      <th>0</th>\n",
       "      <td>5187.160262</td>\n",
       "      <td>6610.584920</td>\n",
       "      <td>Sedan</td>\n",
       "      <td>133000</td>\n",
       "      <td>2014</td>\n",
       "      <td>Automatic</td>\n",
       "      <td>4/5</td>\n",
       "      <td>Right-hand drive</td>\n",
       "      <td>Silver</td>\n",
       "      <td>Black</td>\n",
       "      <td>0</td>\n",
       "      <td>0</td>\n",
       "    </tr>\n",
       "    <tr>\n",
       "      <th>1</th>\n",
       "      <td>7783.107917</td>\n",
       "      <td>3676.476837</td>\n",
       "      <td>Sedan</td>\n",
       "      <td>24500</td>\n",
       "      <td>2010</td>\n",
       "      <td>Manual</td>\n",
       "      <td>4/5</td>\n",
       "      <td>Left wheel</td>\n",
       "      <td>Silver</td>\n",
       "      <td>Black</td>\n",
       "      <td>0</td>\n",
       "      <td>0</td>\n",
       "    </tr>\n",
       "    <tr>\n",
       "      <th>2</th>\n",
       "      <td>8365.449099</td>\n",
       "      <td>6996.655958</td>\n",
       "      <td>Hatchback</td>\n",
       "      <td>31000</td>\n",
       "      <td>2016</td>\n",
       "      <td>Tiptronic</td>\n",
       "      <td>2/3</td>\n",
       "      <td>Left wheel</td>\n",
       "      <td>Silver</td>\n",
       "      <td>Black</td>\n",
       "      <td>1</td>\n",
       "      <td>1</td>\n",
       "    </tr>\n",
       "    <tr>\n",
       "      <th>3</th>\n",
       "      <td>8365.449099</td>\n",
       "      <td>12822.725843</td>\n",
       "      <td>Jeep</td>\n",
       "      <td>115459</td>\n",
       "      <td>2015</td>\n",
       "      <td>Automatic</td>\n",
       "      <td>4/5</td>\n",
       "      <td>Left wheel</td>\n",
       "      <td>Blue</td>\n",
       "      <td>Black</td>\n",
       "      <td>0</td>\n",
       "      <td>1</td>\n",
       "    </tr>\n",
       "    <tr>\n",
       "      <th>6</th>\n",
       "      <td>8365.449099</td>\n",
       "      <td>10594.800877</td>\n",
       "      <td>Jeep</td>\n",
       "      <td>173600</td>\n",
       "      <td>2013</td>\n",
       "      <td>Automatic</td>\n",
       "      <td>4/5</td>\n",
       "      <td>Left wheel</td>\n",
       "      <td>Silver</td>\n",
       "      <td>Black</td>\n",
       "      <td>0</td>\n",
       "      <td>1</td>\n",
       "    </tr>\n",
       "  </tbody>\n",
       "</table>\n",
       "</div>"
      ],
      "text/plain": [
       "   vehicle_manufacturer  vehicle_model vehicle_category  current_mileage  \\\n",
       "0           5187.160262    6610.584920            Sedan           133000   \n",
       "1           7783.107917    3676.476837            Sedan            24500   \n",
       "2           8365.449099    6996.655958        Hatchback            31000   \n",
       "3           8365.449099   12822.725843             Jeep           115459   \n",
       "6           8365.449099   10594.800877             Jeep           173600   \n",
       "\n",
       "   vehicle_year vehicle_gearbox_type doors_cnt                 wheels  \\\n",
       "0          2014            Automatic       4/5    Right-hand drive      \n",
       "1          2010               Manual       4/5           Left wheel     \n",
       "2          2016            Tiptronic       2/3           Left wheel     \n",
       "3          2015            Automatic       4/5           Left wheel     \n",
       "6          2013            Automatic       4/5           Left wheel     \n",
       "\n",
       "  vehicle_color vehicle_interior_color  car_vin  car_leather_interior  \n",
       "0       Silver                  Black         0                     0  \n",
       "1       Silver                  Black         0                     0  \n",
       "2       Silver                  Black         1                     1  \n",
       "3         Blue                  Black         0                     1  \n",
       "6       Silver                  Black         0                     1  "
      ]
     },
     "execution_count": 39,
     "metadata": {},
     "output_type": "execute_result"
    }
   ],
   "source": [
    "target_encoder = ce.TargetEncoder(X['vehicle_model'])\n",
    "X['vehicle_model'] = target_encoder.fit_transform(X['vehicle_model'], y)\n",
    "X.head()"
   ]
  },
  {
   "cell_type": "code",
   "execution_count": 40,
   "id": "75c09a67",
   "metadata": {},
   "outputs": [
    {
     "name": "stdout",
     "output_type": "stream",
     "text": [
      "Index(['vehicle_manufacturer', 'vehicle_model', 'current_mileage',\n",
      "       'vehicle_year', 'car_vin', 'car_leather_interior'],\n",
      "      dtype='object')\n"
     ]
    }
   ],
   "source": [
    "numeric_data = X.select_dtypes([np.number])\n",
    "numeric_features = numeric_data.columns\n",
    "\n",
    "print(numeric_features)\n",
    "\n",
    "X_train, X_test, y_train, y_test = train_test_split(X, y, train_size = 0.65, random_state = 42)\n",
    "\n",
    "column_transform = ColumnTransformer([\n",
    "    ('ohe', OneHotEncoder(handle_unknown = \"ignore\"), categorical_features),\n",
    "    ('scaler', StandardScaler(), numeric_features)\n",
    "])\n",
    "\n",
    "pipeline = Pipeline([\n",
    "    ('ohe and scaling', column_transform),\n",
    "    ('regression', Ridge())\n",
    "])"
   ]
  },
  {
   "cell_type": "code",
   "execution_count": 41,
   "id": "c910976d",
   "metadata": {},
   "outputs": [],
   "source": [
    "model2 = pipeline.fit(X_train, y_train)"
   ]
  },
  {
   "cell_type": "code",
   "execution_count": 42,
   "id": "a18d3c76",
   "metadata": {},
   "outputs": [],
   "source": [
    "y_pred = model2.predict(X_test)"
   ]
  },
  {
   "cell_type": "code",
   "execution_count": 43,
   "id": "2e37bbe6",
   "metadata": {},
   "outputs": [
    {
     "name": "stdout",
     "output_type": "stream",
     "text": [
      "6186.3216666559365\n"
     ]
    }
   ],
   "source": [
    "MAE_loss = mean_absolute_error(y_test, y_pred)\n",
    "\n",
    "print(MAE_loss)"
   ]
  },
  {
   "cell_type": "code",
   "execution_count": 44,
   "id": "d076625a",
   "metadata": {},
   "outputs": [
    {
     "name": "stdout",
     "output_type": "stream",
     "text": [
      "53\n"
     ]
    }
   ],
   "source": [
    "print(len(model2.named_steps['regression'].coef_))"
   ]
  },
  {
   "cell_type": "markdown",
   "id": "aa14fb27",
   "metadata": {},
   "source": [
    "Подберём теперь оптимальный коэффициент регуляризации"
   ]
  },
  {
   "cell_type": "code",
   "execution_count": 45,
   "id": "f6ae943e",
   "metadata": {},
   "outputs": [],
   "source": [
    "from sklearn.model_selection import GridSearchCV\n",
    "\n",
    "alphas = np.logspace(-10, 10, 100)\n",
    "searcher = GridSearchCV(pipeline, [{\"regression__alpha\": alphas}],\n",
    "                        scoring=\"neg_mean_absolute_error\", cv=10, n_jobs=-1)\n",
    "\n",
    "searcher.fit(X_train, y_train)\n",
    "\n",
    "best_alpha = searcher.best_params_[\"regression__alpha\"]"
   ]
  },
  {
   "cell_type": "code",
   "execution_count": 46,
   "id": "f7502572",
   "metadata": {},
   "outputs": [
    {
     "name": "stdout",
     "output_type": "stream",
     "text": [
      "3638.2326076646464\n"
     ]
    }
   ],
   "source": [
    "X_train, X_test, y_train, y_test = train_test_split(X, y, train_size = 0.65, random_state = 42)\n",
    "\n",
    "column_transform = ColumnTransformer([\n",
    "    ('ohe', OneHotEncoder(handle_unknown = \"ignore\"), categorical_features),\n",
    "    ('scaler', StandardScaler(), numeric_features)\n",
    "])\n",
    "\n",
    "pipeline = Pipeline([\n",
    "    ('ohe and scaling', column_transform),\n",
    "    ('regression', Ridge(alpha = best_alpha))\n",
    "])\n",
    "\n",
    "model21 = pipeline.fit(X_train, y_train)\n",
    "\n",
    "y_pred = model21.predict(X_test)\n",
    "\n",
    "MAE_loss = mean_absolute_error(y_test, y_pred)\n",
    "\n",
    "print(MAE_loss)"
   ]
  },
  {
   "cell_type": "markdown",
   "id": "c580b474",
   "metadata": {},
   "source": [
    "Попробуем ещё улучшить качество нашей модели. Попробуем сделать бакеты с производителями автомобилей, а к 'vehicle_model' также будем применять target encoding. Такую же операцию проделаем и с цветом автомобиля"
   ]
  },
  {
   "cell_type": "code",
   "execution_count": 47,
   "id": "55ec97df",
   "metadata": {},
   "outputs": [
    {
     "data": {
      "text/plain": [
       " White             6323\n",
       " Black             6113\n",
       " Silver            5169\n",
       " Grey              3153\n",
       " Blue              1993\n",
       " Red                893\n",
       " Green              539\n",
       " Carnelian red      343\n",
       " Orange             319\n",
       " Brown              301\n",
       " Beige              258\n",
       " Golden             237\n",
       " Sky blue           232\n",
       " Yellow             152\n",
       " Purple              57\n",
       " Pink                42\n",
       "Name: vehicle_color, dtype: int64"
      ]
     },
     "execution_count": 47,
     "metadata": {},
     "output_type": "execute_result"
    }
   ],
   "source": [
    "train_data['vehicle_color'].value_counts()"
   ]
  },
  {
   "cell_type": "code",
   "execution_count": 48,
   "id": "e18aae93",
   "metadata": {},
   "outputs": [
    {
     "data": {
      "text/plain": [
       "count      66.000000\n",
       "mean      395.818182\n",
       "std      1014.943483\n",
       "min         1.000000\n",
       "25%         4.250000\n",
       "50%        33.500000\n",
       "75%       256.500000\n",
       "max      5658.000000\n",
       "Name: vehicle_manufacturer, dtype: float64"
      ]
     },
     "execution_count": 48,
     "metadata": {},
     "output_type": "execute_result"
    }
   ],
   "source": [
    "manufacturer_counts = train_data['vehicle_manufacturer'].value_counts()\n",
    "manufacturer_counts.describe()"
   ]
  },
  {
   "cell_type": "code",
   "execution_count": 49,
   "id": "4103af3b",
   "metadata": {},
   "outputs": [],
   "source": [
    "manufacturer_mean_price = train_data.groupby('vehicle_manufacturer')['final_price'].mean()"
   ]
  },
  {
   "cell_type": "code",
   "execution_count": 50,
   "id": "af3a7a47",
   "metadata": {},
   "outputs": [],
   "source": [
    "q25, q50, q75 = manufacturer_mean_price.quantile([0.25, 0.5, 0.75])"
   ]
  },
  {
   "cell_type": "code",
   "execution_count": 51,
   "id": "daf25633",
   "metadata": {},
   "outputs": [],
   "source": [
    "def manufacturer_to_numeric(manufacturer):\n",
    "    mean_price = manufacturer_mean_price.get(manufacturer, 0)\n",
    "    if mean_price <= q25:\n",
    "        return 0\n",
    "    elif q25 < mean_price <= q50:\n",
    "        return 1\n",
    "    elif q50 < mean_price <= q75:\n",
    "        return 2\n",
    "    else:\n",
    "        return 3"
   ]
  },
  {
   "cell_type": "code",
   "execution_count": 52,
   "id": "4572ad35",
   "metadata": {},
   "outputs": [],
   "source": [
    "X = train_data.drop(columns = ['final_price'])\n",
    "y = train_data['final_price']\n",
    "\n",
    "X['vehicle_manufacturer'] = X['vehicle_manufacturer'].apply(manufacturer_to_numeric)"
   ]
  },
  {
   "cell_type": "code",
   "execution_count": 53,
   "id": "51ee136f",
   "metadata": {},
   "outputs": [
    {
     "data": {
      "text/html": [
       "<div>\n",
       "<style scoped>\n",
       "    .dataframe tbody tr th:only-of-type {\n",
       "        vertical-align: middle;\n",
       "    }\n",
       "\n",
       "    .dataframe tbody tr th {\n",
       "        vertical-align: top;\n",
       "    }\n",
       "\n",
       "    .dataframe thead th {\n",
       "        text-align: right;\n",
       "    }\n",
       "</style>\n",
       "<table border=\"1\" class=\"dataframe\">\n",
       "  <thead>\n",
       "    <tr style=\"text-align: right;\">\n",
       "      <th></th>\n",
       "      <th>vehicle_manufacturer</th>\n",
       "      <th>vehicle_model</th>\n",
       "      <th>vehicle_category</th>\n",
       "      <th>current_mileage</th>\n",
       "      <th>vehicle_year</th>\n",
       "      <th>vehicle_gearbox_type</th>\n",
       "      <th>doors_cnt</th>\n",
       "      <th>wheels</th>\n",
       "      <th>vehicle_color</th>\n",
       "      <th>vehicle_interior_color</th>\n",
       "      <th>car_vin</th>\n",
       "      <th>car_leather_interior</th>\n",
       "    </tr>\n",
       "  </thead>\n",
       "  <tbody>\n",
       "    <tr>\n",
       "      <th>0</th>\n",
       "      <td>2</td>\n",
       "      <td>Aqua s</td>\n",
       "      <td>Sedan</td>\n",
       "      <td>133000</td>\n",
       "      <td>2014</td>\n",
       "      <td>Automatic</td>\n",
       "      <td>4/5</td>\n",
       "      <td>Right-hand drive</td>\n",
       "      <td>Silver</td>\n",
       "      <td>Black</td>\n",
       "      <td>0</td>\n",
       "      <td>0</td>\n",
       "    </tr>\n",
       "    <tr>\n",
       "      <th>1</th>\n",
       "      <td>3</td>\n",
       "      <td>C 220</td>\n",
       "      <td>Sedan</td>\n",
       "      <td>24500</td>\n",
       "      <td>2010</td>\n",
       "      <td>Manual</td>\n",
       "      <td>4/5</td>\n",
       "      <td>Left wheel</td>\n",
       "      <td>Silver</td>\n",
       "      <td>Black</td>\n",
       "      <td>0</td>\n",
       "      <td>0</td>\n",
       "    </tr>\n",
       "    <tr>\n",
       "      <th>2</th>\n",
       "      <td>3</td>\n",
       "      <td>Veloster</td>\n",
       "      <td>Hatchback</td>\n",
       "      <td>31000</td>\n",
       "      <td>2016</td>\n",
       "      <td>Tiptronic</td>\n",
       "      <td>2/3</td>\n",
       "      <td>Left wheel</td>\n",
       "      <td>Silver</td>\n",
       "      <td>Black</td>\n",
       "      <td>1</td>\n",
       "      <td>1</td>\n",
       "    </tr>\n",
       "    <tr>\n",
       "      <th>3</th>\n",
       "      <td>3</td>\n",
       "      <td>Santa FE</td>\n",
       "      <td>Jeep</td>\n",
       "      <td>115459</td>\n",
       "      <td>2015</td>\n",
       "      <td>Automatic</td>\n",
       "      <td>4/5</td>\n",
       "      <td>Left wheel</td>\n",
       "      <td>Blue</td>\n",
       "      <td>Black</td>\n",
       "      <td>0</td>\n",
       "      <td>1</td>\n",
       "    </tr>\n",
       "    <tr>\n",
       "      <th>6</th>\n",
       "      <td>3</td>\n",
       "      <td>Tucson</td>\n",
       "      <td>Jeep</td>\n",
       "      <td>173600</td>\n",
       "      <td>2013</td>\n",
       "      <td>Automatic</td>\n",
       "      <td>4/5</td>\n",
       "      <td>Left wheel</td>\n",
       "      <td>Silver</td>\n",
       "      <td>Black</td>\n",
       "      <td>0</td>\n",
       "      <td>1</td>\n",
       "    </tr>\n",
       "  </tbody>\n",
       "</table>\n",
       "</div>"
      ],
      "text/plain": [
       "   vehicle_manufacturer vehicle_model vehicle_category  current_mileage  \\\n",
       "0                     2        Aqua s            Sedan           133000   \n",
       "1                     3         C 220            Sedan            24500   \n",
       "2                     3      Veloster        Hatchback            31000   \n",
       "3                     3      Santa FE             Jeep           115459   \n",
       "6                     3        Tucson             Jeep           173600   \n",
       "\n",
       "   vehicle_year vehicle_gearbox_type doors_cnt                 wheels  \\\n",
       "0          2014            Automatic       4/5    Right-hand drive      \n",
       "1          2010               Manual       4/5           Left wheel     \n",
       "2          2016            Tiptronic       2/3           Left wheel     \n",
       "3          2015            Automatic       4/5           Left wheel     \n",
       "6          2013            Automatic       4/5           Left wheel     \n",
       "\n",
       "  vehicle_color vehicle_interior_color  car_vin  car_leather_interior  \n",
       "0       Silver                  Black         0                     0  \n",
       "1       Silver                  Black         0                     0  \n",
       "2       Silver                  Black         1                     1  \n",
       "3         Blue                  Black         0                     1  \n",
       "6       Silver                  Black         0                     1  "
      ]
     },
     "execution_count": 53,
     "metadata": {},
     "output_type": "execute_result"
    }
   ],
   "source": [
    "X.head()"
   ]
  },
  {
   "cell_type": "code",
   "execution_count": 54,
   "id": "a2422a8a",
   "metadata": {},
   "outputs": [],
   "source": [
    "color_mean_price = train_data.groupby('vehicle_color')['final_price'].mean()"
   ]
  },
  {
   "cell_type": "code",
   "execution_count": 55,
   "id": "6a831987",
   "metadata": {},
   "outputs": [],
   "source": [
    "q25, q50, q75 = color_mean_price.quantile([0.25, 0.5, 0.75])"
   ]
  },
  {
   "cell_type": "code",
   "execution_count": 56,
   "id": "e41c38bd",
   "metadata": {},
   "outputs": [],
   "source": [
    "def color_to_numeric(manufacturer):\n",
    "    mean_price = color_mean_price.get(manufacturer, 0)\n",
    "    if mean_price <= q25:\n",
    "        return 0\n",
    "    elif q25 < mean_price <= q50:\n",
    "        return 1\n",
    "    elif q50 < mean_price <= q75:\n",
    "        return 2\n",
    "    else:\n",
    "        return 3"
   ]
  },
  {
   "cell_type": "code",
   "execution_count": 57,
   "id": "74184a83",
   "metadata": {},
   "outputs": [],
   "source": [
    "X['vehicle_color'] = X['vehicle_color'].apply(color_to_numeric)"
   ]
  },
  {
   "cell_type": "code",
   "execution_count": 58,
   "id": "db877eb9",
   "metadata": {},
   "outputs": [
    {
     "data": {
      "text/html": [
       "<div>\n",
       "<style scoped>\n",
       "    .dataframe tbody tr th:only-of-type {\n",
       "        vertical-align: middle;\n",
       "    }\n",
       "\n",
       "    .dataframe tbody tr th {\n",
       "        vertical-align: top;\n",
       "    }\n",
       "\n",
       "    .dataframe thead th {\n",
       "        text-align: right;\n",
       "    }\n",
       "</style>\n",
       "<table border=\"1\" class=\"dataframe\">\n",
       "  <thead>\n",
       "    <tr style=\"text-align: right;\">\n",
       "      <th></th>\n",
       "      <th>vehicle_manufacturer</th>\n",
       "      <th>vehicle_model</th>\n",
       "      <th>vehicle_category</th>\n",
       "      <th>current_mileage</th>\n",
       "      <th>vehicle_year</th>\n",
       "      <th>vehicle_gearbox_type</th>\n",
       "      <th>doors_cnt</th>\n",
       "      <th>wheels</th>\n",
       "      <th>vehicle_color</th>\n",
       "      <th>vehicle_interior_color</th>\n",
       "      <th>car_vin</th>\n",
       "      <th>car_leather_interior</th>\n",
       "    </tr>\n",
       "  </thead>\n",
       "  <tbody>\n",
       "    <tr>\n",
       "      <th>0</th>\n",
       "      <td>2</td>\n",
       "      <td>Aqua s</td>\n",
       "      <td>Sedan</td>\n",
       "      <td>133000</td>\n",
       "      <td>2014</td>\n",
       "      <td>Automatic</td>\n",
       "      <td>4/5</td>\n",
       "      <td>Right-hand drive</td>\n",
       "      <td>1</td>\n",
       "      <td>Black</td>\n",
       "      <td>0</td>\n",
       "      <td>0</td>\n",
       "    </tr>\n",
       "    <tr>\n",
       "      <th>1</th>\n",
       "      <td>3</td>\n",
       "      <td>C 220</td>\n",
       "      <td>Sedan</td>\n",
       "      <td>24500</td>\n",
       "      <td>2010</td>\n",
       "      <td>Manual</td>\n",
       "      <td>4/5</td>\n",
       "      <td>Left wheel</td>\n",
       "      <td>1</td>\n",
       "      <td>Black</td>\n",
       "      <td>0</td>\n",
       "      <td>0</td>\n",
       "    </tr>\n",
       "    <tr>\n",
       "      <th>2</th>\n",
       "      <td>3</td>\n",
       "      <td>Veloster</td>\n",
       "      <td>Hatchback</td>\n",
       "      <td>31000</td>\n",
       "      <td>2016</td>\n",
       "      <td>Tiptronic</td>\n",
       "      <td>2/3</td>\n",
       "      <td>Left wheel</td>\n",
       "      <td>1</td>\n",
       "      <td>Black</td>\n",
       "      <td>1</td>\n",
       "      <td>1</td>\n",
       "    </tr>\n",
       "    <tr>\n",
       "      <th>3</th>\n",
       "      <td>3</td>\n",
       "      <td>Santa FE</td>\n",
       "      <td>Jeep</td>\n",
       "      <td>115459</td>\n",
       "      <td>2015</td>\n",
       "      <td>Automatic</td>\n",
       "      <td>4/5</td>\n",
       "      <td>Left wheel</td>\n",
       "      <td>3</td>\n",
       "      <td>Black</td>\n",
       "      <td>0</td>\n",
       "      <td>1</td>\n",
       "    </tr>\n",
       "    <tr>\n",
       "      <th>6</th>\n",
       "      <td>3</td>\n",
       "      <td>Tucson</td>\n",
       "      <td>Jeep</td>\n",
       "      <td>173600</td>\n",
       "      <td>2013</td>\n",
       "      <td>Automatic</td>\n",
       "      <td>4/5</td>\n",
       "      <td>Left wheel</td>\n",
       "      <td>1</td>\n",
       "      <td>Black</td>\n",
       "      <td>0</td>\n",
       "      <td>1</td>\n",
       "    </tr>\n",
       "  </tbody>\n",
       "</table>\n",
       "</div>"
      ],
      "text/plain": [
       "   vehicle_manufacturer vehicle_model vehicle_category  current_mileage  \\\n",
       "0                     2        Aqua s            Sedan           133000   \n",
       "1                     3         C 220            Sedan            24500   \n",
       "2                     3      Veloster        Hatchback            31000   \n",
       "3                     3      Santa FE             Jeep           115459   \n",
       "6                     3        Tucson             Jeep           173600   \n",
       "\n",
       "   vehicle_year vehicle_gearbox_type doors_cnt                 wheels  \\\n",
       "0          2014            Automatic       4/5    Right-hand drive      \n",
       "1          2010               Manual       4/5           Left wheel     \n",
       "2          2016            Tiptronic       2/3           Left wheel     \n",
       "3          2015            Automatic       4/5           Left wheel     \n",
       "6          2013            Automatic       4/5           Left wheel     \n",
       "\n",
       "   vehicle_color vehicle_interior_color  car_vin  car_leather_interior  \n",
       "0              1                 Black         0                     0  \n",
       "1              1                 Black         0                     0  \n",
       "2              1                 Black         1                     1  \n",
       "3              3                 Black         0                     1  \n",
       "6              1                 Black         0                     1  "
      ]
     },
     "execution_count": 58,
     "metadata": {},
     "output_type": "execute_result"
    }
   ],
   "source": [
    "X.head()"
   ]
  },
  {
   "cell_type": "code",
   "execution_count": 59,
   "id": "cdef979a",
   "metadata": {},
   "outputs": [
    {
     "data": {
      "text/html": [
       "<div>\n",
       "<style scoped>\n",
       "    .dataframe tbody tr th:only-of-type {\n",
       "        vertical-align: middle;\n",
       "    }\n",
       "\n",
       "    .dataframe tbody tr th {\n",
       "        vertical-align: top;\n",
       "    }\n",
       "\n",
       "    .dataframe thead th {\n",
       "        text-align: right;\n",
       "    }\n",
       "</style>\n",
       "<table border=\"1\" class=\"dataframe\">\n",
       "  <thead>\n",
       "    <tr style=\"text-align: right;\">\n",
       "      <th></th>\n",
       "      <th>vehicle_manufacturer</th>\n",
       "      <th>vehicle_model</th>\n",
       "      <th>vehicle_category</th>\n",
       "      <th>current_mileage</th>\n",
       "      <th>vehicle_year</th>\n",
       "      <th>vehicle_gearbox_type</th>\n",
       "      <th>doors_cnt</th>\n",
       "      <th>wheels</th>\n",
       "      <th>vehicle_color</th>\n",
       "      <th>vehicle_interior_color</th>\n",
       "      <th>car_vin</th>\n",
       "      <th>car_leather_interior</th>\n",
       "    </tr>\n",
       "  </thead>\n",
       "  <tbody>\n",
       "    <tr>\n",
       "      <th>0</th>\n",
       "      <td>2</td>\n",
       "      <td>6610.584920</td>\n",
       "      <td>Sedan</td>\n",
       "      <td>133000</td>\n",
       "      <td>2014</td>\n",
       "      <td>Automatic</td>\n",
       "      <td>4/5</td>\n",
       "      <td>Right-hand drive</td>\n",
       "      <td>1</td>\n",
       "      <td>Black</td>\n",
       "      <td>0</td>\n",
       "      <td>0</td>\n",
       "    </tr>\n",
       "    <tr>\n",
       "      <th>1</th>\n",
       "      <td>3</td>\n",
       "      <td>3676.476837</td>\n",
       "      <td>Sedan</td>\n",
       "      <td>24500</td>\n",
       "      <td>2010</td>\n",
       "      <td>Manual</td>\n",
       "      <td>4/5</td>\n",
       "      <td>Left wheel</td>\n",
       "      <td>1</td>\n",
       "      <td>Black</td>\n",
       "      <td>0</td>\n",
       "      <td>0</td>\n",
       "    </tr>\n",
       "    <tr>\n",
       "      <th>2</th>\n",
       "      <td>3</td>\n",
       "      <td>6996.655958</td>\n",
       "      <td>Hatchback</td>\n",
       "      <td>31000</td>\n",
       "      <td>2016</td>\n",
       "      <td>Tiptronic</td>\n",
       "      <td>2/3</td>\n",
       "      <td>Left wheel</td>\n",
       "      <td>1</td>\n",
       "      <td>Black</td>\n",
       "      <td>1</td>\n",
       "      <td>1</td>\n",
       "    </tr>\n",
       "    <tr>\n",
       "      <th>3</th>\n",
       "      <td>3</td>\n",
       "      <td>12822.725843</td>\n",
       "      <td>Jeep</td>\n",
       "      <td>115459</td>\n",
       "      <td>2015</td>\n",
       "      <td>Automatic</td>\n",
       "      <td>4/5</td>\n",
       "      <td>Left wheel</td>\n",
       "      <td>3</td>\n",
       "      <td>Black</td>\n",
       "      <td>0</td>\n",
       "      <td>1</td>\n",
       "    </tr>\n",
       "    <tr>\n",
       "      <th>6</th>\n",
       "      <td>3</td>\n",
       "      <td>10594.800877</td>\n",
       "      <td>Jeep</td>\n",
       "      <td>173600</td>\n",
       "      <td>2013</td>\n",
       "      <td>Automatic</td>\n",
       "      <td>4/5</td>\n",
       "      <td>Left wheel</td>\n",
       "      <td>1</td>\n",
       "      <td>Black</td>\n",
       "      <td>0</td>\n",
       "      <td>1</td>\n",
       "    </tr>\n",
       "  </tbody>\n",
       "</table>\n",
       "</div>"
      ],
      "text/plain": [
       "   vehicle_manufacturer  vehicle_model vehicle_category  current_mileage  \\\n",
       "0                     2    6610.584920            Sedan           133000   \n",
       "1                     3    3676.476837            Sedan            24500   \n",
       "2                     3    6996.655958        Hatchback            31000   \n",
       "3                     3   12822.725843             Jeep           115459   \n",
       "6                     3   10594.800877             Jeep           173600   \n",
       "\n",
       "   vehicle_year vehicle_gearbox_type doors_cnt                 wheels  \\\n",
       "0          2014            Automatic       4/5    Right-hand drive      \n",
       "1          2010               Manual       4/5           Left wheel     \n",
       "2          2016            Tiptronic       2/3           Left wheel     \n",
       "3          2015            Automatic       4/5           Left wheel     \n",
       "6          2013            Automatic       4/5           Left wheel     \n",
       "\n",
       "   vehicle_color vehicle_interior_color  car_vin  car_leather_interior  \n",
       "0              1                 Black         0                     0  \n",
       "1              1                 Black         0                     0  \n",
       "2              1                 Black         1                     1  \n",
       "3              3                 Black         0                     1  \n",
       "6              1                 Black         0                     1  "
      ]
     },
     "execution_count": 59,
     "metadata": {},
     "output_type": "execute_result"
    }
   ],
   "source": [
    "target_encoder = ce.TargetEncoder(X['vehicle_model'])\n",
    "X['vehicle_model'] = target_encoder.fit_transform(X['vehicle_model'], y)\n",
    "X.head()"
   ]
  },
  {
   "cell_type": "code",
   "execution_count": 60,
   "id": "5128c0af",
   "metadata": {},
   "outputs": [],
   "source": [
    "categorical_data = X.select_dtypes([object])\n",
    "categorical_features = categorical_data.columns\n",
    "\n",
    "numeric_data = X.select_dtypes([np.number])\n",
    "numeric_features = numeric_data.columns"
   ]
  },
  {
   "cell_type": "code",
   "execution_count": 61,
   "id": "28428391",
   "metadata": {},
   "outputs": [],
   "source": [
    "X_train, X_test, y_train, y_test = train_test_split(X, y, train_size = 0.65, random_state = 42)\n",
    "\n",
    "column_transform = ColumnTransformer([\n",
    "    ('ohe', OneHotEncoder(handle_unknown = \"ignore\"), categorical_features),\n",
    "    ('scaler', StandardScaler(), numeric_features)\n",
    "])\n",
    "\n",
    "pipeline = Pipeline([\n",
    "    ('ohe and scaling', column_transform),\n",
    "    ('regression', Ridge())\n",
    "])"
   ]
  },
  {
   "cell_type": "code",
   "execution_count": 62,
   "id": "8f24d72b",
   "metadata": {},
   "outputs": [],
   "source": [
    "model3 = pipeline.fit(X_train, y_train)"
   ]
  },
  {
   "cell_type": "code",
   "execution_count": 63,
   "id": "e7298aaa",
   "metadata": {},
   "outputs": [],
   "source": [
    "y_pred = model3.predict(X_test)"
   ]
  },
  {
   "cell_type": "code",
   "execution_count": 64,
   "id": "f53e197d",
   "metadata": {},
   "outputs": [
    {
     "name": "stdout",
     "output_type": "stream",
     "text": [
      "5618.078009113937\n"
     ]
    }
   ],
   "source": [
    "MAE_loss = mean_absolute_error(y_test, y_pred)\n",
    "\n",
    "print(MAE_loss)"
   ]
  },
  {
   "cell_type": "code",
   "execution_count": 65,
   "id": "d2c87fce",
   "metadata": {
    "scrolled": true
   },
   "outputs": [
    {
     "name": "stdout",
     "output_type": "stream",
     "text": [
      "53\n"
     ]
    }
   ],
   "source": [
    "print(len(model2.named_steps['regression'].coef_))"
   ]
  },
  {
   "cell_type": "markdown",
   "id": "16ea35e5",
   "metadata": {},
   "source": [
    "Точность улучшилась, но кардинального улучшения не вышло"
   ]
  },
  {
   "cell_type": "code",
   "execution_count": 66,
   "id": "984c1437",
   "metadata": {},
   "outputs": [
    {
     "data": {
      "text/plain": [
       "count    2166.000000\n",
       "mean       12.060942\n",
       "std        75.480980\n",
       "min         1.000000\n",
       "25%         1.000000\n",
       "50%         1.000000\n",
       "75%         3.000000\n",
       "max      1788.000000\n",
       "Name: vehicle_model, dtype: float64"
      ]
     },
     "execution_count": 66,
     "metadata": {},
     "output_type": "execute_result"
    }
   ],
   "source": [
    "manufacturer_counts = train_data['vehicle_model'].value_counts()\n",
    "manufacturer_counts.describe()"
   ]
  },
  {
   "cell_type": "code",
   "execution_count": 67,
   "id": "e97701b4",
   "metadata": {},
   "outputs": [
    {
     "data": {
      "text/plain": [
       "count    2.612400e+04\n",
       "mean     7.072037e+03\n",
       "std      7.422059e+04\n",
       "min      2.000000e+02\n",
       "25%      2.800000e+03\n",
       "50%      4.900000e+03\n",
       "75%      7.845500e+03\n",
       "max      8.388607e+06\n",
       "Name: final_price, dtype: float64"
      ]
     },
     "execution_count": 67,
     "metadata": {},
     "output_type": "execute_result"
    }
   ],
   "source": [
    "y.describe()"
   ]
  },
  {
   "cell_type": "code",
   "execution_count": 68,
   "id": "0de7111b",
   "metadata": {},
   "outputs": [
    {
     "data": {
      "text/html": [
       "<style>#sk-container-id-1 {color: black;background-color: white;}#sk-container-id-1 pre{padding: 0;}#sk-container-id-1 div.sk-toggleable {background-color: white;}#sk-container-id-1 label.sk-toggleable__label {cursor: pointer;display: block;width: 100%;margin-bottom: 0;padding: 0.3em;box-sizing: border-box;text-align: center;}#sk-container-id-1 label.sk-toggleable__label-arrow:before {content: \"▸\";float: left;margin-right: 0.25em;color: #696969;}#sk-container-id-1 label.sk-toggleable__label-arrow:hover:before {color: black;}#sk-container-id-1 div.sk-estimator:hover label.sk-toggleable__label-arrow:before {color: black;}#sk-container-id-1 div.sk-toggleable__content {max-height: 0;max-width: 0;overflow: hidden;text-align: left;background-color: #f0f8ff;}#sk-container-id-1 div.sk-toggleable__content pre {margin: 0.2em;color: black;border-radius: 0.25em;background-color: #f0f8ff;}#sk-container-id-1 input.sk-toggleable__control:checked~div.sk-toggleable__content {max-height: 200px;max-width: 100%;overflow: auto;}#sk-container-id-1 input.sk-toggleable__control:checked~label.sk-toggleable__label-arrow:before {content: \"▾\";}#sk-container-id-1 div.sk-estimator input.sk-toggleable__control:checked~label.sk-toggleable__label {background-color: #d4ebff;}#sk-container-id-1 div.sk-label input.sk-toggleable__control:checked~label.sk-toggleable__label {background-color: #d4ebff;}#sk-container-id-1 input.sk-hidden--visually {border: 0;clip: rect(1px 1px 1px 1px);clip: rect(1px, 1px, 1px, 1px);height: 1px;margin: -1px;overflow: hidden;padding: 0;position: absolute;width: 1px;}#sk-container-id-1 div.sk-estimator {font-family: monospace;background-color: #f0f8ff;border: 1px dotted black;border-radius: 0.25em;box-sizing: border-box;margin-bottom: 0.5em;}#sk-container-id-1 div.sk-estimator:hover {background-color: #d4ebff;}#sk-container-id-1 div.sk-parallel-item::after {content: \"\";width: 100%;border-bottom: 1px solid gray;flex-grow: 1;}#sk-container-id-1 div.sk-label:hover label.sk-toggleable__label {background-color: #d4ebff;}#sk-container-id-1 div.sk-serial::before {content: \"\";position: absolute;border-left: 1px solid gray;box-sizing: border-box;top: 0;bottom: 0;left: 50%;z-index: 0;}#sk-container-id-1 div.sk-serial {display: flex;flex-direction: column;align-items: center;background-color: white;padding-right: 0.2em;padding-left: 0.2em;position: relative;}#sk-container-id-1 div.sk-item {position: relative;z-index: 1;}#sk-container-id-1 div.sk-parallel {display: flex;align-items: stretch;justify-content: center;background-color: white;position: relative;}#sk-container-id-1 div.sk-item::before, #sk-container-id-1 div.sk-parallel-item::before {content: \"\";position: absolute;border-left: 1px solid gray;box-sizing: border-box;top: 0;bottom: 0;left: 50%;z-index: -1;}#sk-container-id-1 div.sk-parallel-item {display: flex;flex-direction: column;z-index: 1;position: relative;background-color: white;}#sk-container-id-1 div.sk-parallel-item:first-child::after {align-self: flex-end;width: 50%;}#sk-container-id-1 div.sk-parallel-item:last-child::after {align-self: flex-start;width: 50%;}#sk-container-id-1 div.sk-parallel-item:only-child::after {width: 0;}#sk-container-id-1 div.sk-dashed-wrapped {border: 1px dashed gray;margin: 0 0.4em 0.5em 0.4em;box-sizing: border-box;padding-bottom: 0.4em;background-color: white;}#sk-container-id-1 div.sk-label label {font-family: monospace;font-weight: bold;display: inline-block;line-height: 1.2em;}#sk-container-id-1 div.sk-label-container {text-align: center;}#sk-container-id-1 div.sk-container {/* jupyter's `normalize.less` sets `[hidden] { display: none; }` but bootstrap.min.css set `[hidden] { display: none !important; }` so we also need the `!important` here to be able to override the default hidden behavior on the sphinx rendered scikit-learn.org. See: https://github.com/scikit-learn/scikit-learn/issues/21755 */display: inline-block !important;position: relative;}#sk-container-id-1 div.sk-text-repr-fallback {display: none;}</style><div id=\"sk-container-id-1\" class=\"sk-top-container\"><div class=\"sk-text-repr-fallback\"><pre>GridSearchCV(cv=10,\n",
       "             estimator=Pipeline(steps=[(&#x27;ohe and scaling&#x27;,\n",
       "                                        ColumnTransformer(transformers=[(&#x27;ohe&#x27;,\n",
       "                                                                         OneHotEncoder(handle_unknown=&#x27;ignore&#x27;),\n",
       "                                                                         Index([&#x27;vehicle_category&#x27;, &#x27;vehicle_gearbox_type&#x27;, &#x27;doors_cnt&#x27;, &#x27;wheels&#x27;,\n",
       "       &#x27;vehicle_interior_color&#x27;],\n",
       "      dtype=&#x27;object&#x27;)),\n",
       "                                                                        (&#x27;scaler&#x27;,\n",
       "                                                                         StandardScaler(),\n",
       "                                                                         Index([&#x27;vehicle_manufacturer&#x27;, &#x27;vehicle_model&#x27;, &#x27;current_mileage&#x27;,\n",
       "       &#x27;vehic...\n",
       "       2.25701972e+05, 3.59381366e+05, 5.72236766e+05, 9.11162756e+05,\n",
       "       1.45082878e+06, 2.31012970e+06, 3.67837977e+06, 5.85702082e+06,\n",
       "       9.32603347e+06, 1.48496826e+07, 2.36448941e+07, 3.76493581e+07,\n",
       "       5.99484250e+07, 9.54548457e+07, 1.51991108e+08, 2.42012826e+08,\n",
       "       3.85352859e+08, 6.13590727e+08, 9.77009957e+08, 1.55567614e+09,\n",
       "       2.47707636e+09, 3.94420606e+09, 6.28029144e+09, 1.00000000e+10])}],\n",
       "             scoring=&#x27;neg_mean_absolute_error&#x27;)</pre><b>In a Jupyter environment, please rerun this cell to show the HTML representation or trust the notebook. <br />On GitHub, the HTML representation is unable to render, please try loading this page with nbviewer.org.</b></div><div class=\"sk-container\" hidden><div class=\"sk-item sk-dashed-wrapped\"><div class=\"sk-label-container\"><div class=\"sk-label sk-toggleable\"><input class=\"sk-toggleable__control sk-hidden--visually\" id=\"sk-estimator-id-1\" type=\"checkbox\" ><label for=\"sk-estimator-id-1\" class=\"sk-toggleable__label sk-toggleable__label-arrow\">GridSearchCV</label><div class=\"sk-toggleable__content\"><pre>GridSearchCV(cv=10,\n",
       "             estimator=Pipeline(steps=[(&#x27;ohe and scaling&#x27;,\n",
       "                                        ColumnTransformer(transformers=[(&#x27;ohe&#x27;,\n",
       "                                                                         OneHotEncoder(handle_unknown=&#x27;ignore&#x27;),\n",
       "                                                                         Index([&#x27;vehicle_category&#x27;, &#x27;vehicle_gearbox_type&#x27;, &#x27;doors_cnt&#x27;, &#x27;wheels&#x27;,\n",
       "       &#x27;vehicle_interior_color&#x27;],\n",
       "      dtype=&#x27;object&#x27;)),\n",
       "                                                                        (&#x27;scaler&#x27;,\n",
       "                                                                         StandardScaler(),\n",
       "                                                                         Index([&#x27;vehicle_manufacturer&#x27;, &#x27;vehicle_model&#x27;, &#x27;current_mileage&#x27;,\n",
       "       &#x27;vehic...\n",
       "       2.25701972e+05, 3.59381366e+05, 5.72236766e+05, 9.11162756e+05,\n",
       "       1.45082878e+06, 2.31012970e+06, 3.67837977e+06, 5.85702082e+06,\n",
       "       9.32603347e+06, 1.48496826e+07, 2.36448941e+07, 3.76493581e+07,\n",
       "       5.99484250e+07, 9.54548457e+07, 1.51991108e+08, 2.42012826e+08,\n",
       "       3.85352859e+08, 6.13590727e+08, 9.77009957e+08, 1.55567614e+09,\n",
       "       2.47707636e+09, 3.94420606e+09, 6.28029144e+09, 1.00000000e+10])}],\n",
       "             scoring=&#x27;neg_mean_absolute_error&#x27;)</pre></div></div></div><div class=\"sk-parallel\"><div class=\"sk-parallel-item\"><div class=\"sk-item\"><div class=\"sk-label-container\"><div class=\"sk-label sk-toggleable\"><input class=\"sk-toggleable__control sk-hidden--visually\" id=\"sk-estimator-id-2\" type=\"checkbox\" ><label for=\"sk-estimator-id-2\" class=\"sk-toggleable__label sk-toggleable__label-arrow\">estimator: Pipeline</label><div class=\"sk-toggleable__content\"><pre>Pipeline(steps=[(&#x27;ohe and scaling&#x27;,\n",
       "                 ColumnTransformer(transformers=[(&#x27;ohe&#x27;,\n",
       "                                                  OneHotEncoder(handle_unknown=&#x27;ignore&#x27;),\n",
       "                                                  Index([&#x27;vehicle_category&#x27;, &#x27;vehicle_gearbox_type&#x27;, &#x27;doors_cnt&#x27;, &#x27;wheels&#x27;,\n",
       "       &#x27;vehicle_interior_color&#x27;],\n",
       "      dtype=&#x27;object&#x27;)),\n",
       "                                                 (&#x27;scaler&#x27;, StandardScaler(),\n",
       "                                                  Index([&#x27;vehicle_manufacturer&#x27;, &#x27;vehicle_model&#x27;, &#x27;current_mileage&#x27;,\n",
       "       &#x27;vehicle_year&#x27;, &#x27;vehicle_color&#x27;, &#x27;car_vin&#x27;, &#x27;car_leather_interior&#x27;],\n",
       "      dtype=&#x27;object&#x27;))])),\n",
       "                (&#x27;regression&#x27;, Ridge())])</pre></div></div></div><div class=\"sk-serial\"><div class=\"sk-item\"><div class=\"sk-serial\"><div class=\"sk-item sk-dashed-wrapped\"><div class=\"sk-label-container\"><div class=\"sk-label sk-toggleable\"><input class=\"sk-toggleable__control sk-hidden--visually\" id=\"sk-estimator-id-3\" type=\"checkbox\" ><label for=\"sk-estimator-id-3\" class=\"sk-toggleable__label sk-toggleable__label-arrow\">ohe and scaling: ColumnTransformer</label><div class=\"sk-toggleable__content\"><pre>ColumnTransformer(transformers=[(&#x27;ohe&#x27;, OneHotEncoder(handle_unknown=&#x27;ignore&#x27;),\n",
       "                                 Index([&#x27;vehicle_category&#x27;, &#x27;vehicle_gearbox_type&#x27;, &#x27;doors_cnt&#x27;, &#x27;wheels&#x27;,\n",
       "       &#x27;vehicle_interior_color&#x27;],\n",
       "      dtype=&#x27;object&#x27;)),\n",
       "                                (&#x27;scaler&#x27;, StandardScaler(),\n",
       "                                 Index([&#x27;vehicle_manufacturer&#x27;, &#x27;vehicle_model&#x27;, &#x27;current_mileage&#x27;,\n",
       "       &#x27;vehicle_year&#x27;, &#x27;vehicle_color&#x27;, &#x27;car_vin&#x27;, &#x27;car_leather_interior&#x27;],\n",
       "      dtype=&#x27;object&#x27;))])</pre></div></div></div><div class=\"sk-parallel\"><div class=\"sk-parallel-item\"><div class=\"sk-item\"><div class=\"sk-label-container\"><div class=\"sk-label sk-toggleable\"><input class=\"sk-toggleable__control sk-hidden--visually\" id=\"sk-estimator-id-4\" type=\"checkbox\" ><label for=\"sk-estimator-id-4\" class=\"sk-toggleable__label sk-toggleable__label-arrow\">ohe</label><div class=\"sk-toggleable__content\"><pre>Index([&#x27;vehicle_category&#x27;, &#x27;vehicle_gearbox_type&#x27;, &#x27;doors_cnt&#x27;, &#x27;wheels&#x27;,\n",
       "       &#x27;vehicle_interior_color&#x27;],\n",
       "      dtype=&#x27;object&#x27;)</pre></div></div></div><div class=\"sk-serial\"><div class=\"sk-item\"><div class=\"sk-estimator sk-toggleable\"><input class=\"sk-toggleable__control sk-hidden--visually\" id=\"sk-estimator-id-5\" type=\"checkbox\" ><label for=\"sk-estimator-id-5\" class=\"sk-toggleable__label sk-toggleable__label-arrow\">OneHotEncoder</label><div class=\"sk-toggleable__content\"><pre>OneHotEncoder(handle_unknown=&#x27;ignore&#x27;)</pre></div></div></div></div></div></div><div class=\"sk-parallel-item\"><div class=\"sk-item\"><div class=\"sk-label-container\"><div class=\"sk-label sk-toggleable\"><input class=\"sk-toggleable__control sk-hidden--visually\" id=\"sk-estimator-id-6\" type=\"checkbox\" ><label for=\"sk-estimator-id-6\" class=\"sk-toggleable__label sk-toggleable__label-arrow\">scaler</label><div class=\"sk-toggleable__content\"><pre>Index([&#x27;vehicle_manufacturer&#x27;, &#x27;vehicle_model&#x27;, &#x27;current_mileage&#x27;,\n",
       "       &#x27;vehicle_year&#x27;, &#x27;vehicle_color&#x27;, &#x27;car_vin&#x27;, &#x27;car_leather_interior&#x27;],\n",
       "      dtype=&#x27;object&#x27;)</pre></div></div></div><div class=\"sk-serial\"><div class=\"sk-item\"><div class=\"sk-estimator sk-toggleable\"><input class=\"sk-toggleable__control sk-hidden--visually\" id=\"sk-estimator-id-7\" type=\"checkbox\" ><label for=\"sk-estimator-id-7\" class=\"sk-toggleable__label sk-toggleable__label-arrow\">StandardScaler</label><div class=\"sk-toggleable__content\"><pre>StandardScaler()</pre></div></div></div></div></div></div></div></div><div class=\"sk-item\"><div class=\"sk-estimator sk-toggleable\"><input class=\"sk-toggleable__control sk-hidden--visually\" id=\"sk-estimator-id-8\" type=\"checkbox\" ><label for=\"sk-estimator-id-8\" class=\"sk-toggleable__label sk-toggleable__label-arrow\">Ridge</label><div class=\"sk-toggleable__content\"><pre>Ridge()</pre></div></div></div></div></div></div></div></div></div></div></div></div>"
      ],
      "text/plain": [
       "GridSearchCV(cv=10,\n",
       "             estimator=Pipeline(steps=[('ohe and scaling',\n",
       "                                        ColumnTransformer(transformers=[('ohe',\n",
       "                                                                         OneHotEncoder(handle_unknown='ignore'),\n",
       "                                                                         Index(['vehicle_category', 'vehicle_gearbox_type', 'doors_cnt', 'wheels',\n",
       "       'vehicle_interior_color'],\n",
       "      dtype='object')),\n",
       "                                                                        ('scaler',\n",
       "                                                                         StandardScaler(),\n",
       "                                                                         Index(['vehicle_manufacturer', 'vehicle_model', 'current_mileage',\n",
       "       'vehic...\n",
       "       2.25701972e+05, 3.59381366e+05, 5.72236766e+05, 9.11162756e+05,\n",
       "       1.45082878e+06, 2.31012970e+06, 3.67837977e+06, 5.85702082e+06,\n",
       "       9.32603347e+06, 1.48496826e+07, 2.36448941e+07, 3.76493581e+07,\n",
       "       5.99484250e+07, 9.54548457e+07, 1.51991108e+08, 2.42012826e+08,\n",
       "       3.85352859e+08, 6.13590727e+08, 9.77009957e+08, 1.55567614e+09,\n",
       "       2.47707636e+09, 3.94420606e+09, 6.28029144e+09, 1.00000000e+10])}],\n",
       "             scoring='neg_mean_absolute_error')"
      ]
     },
     "execution_count": 68,
     "metadata": {},
     "output_type": "execute_result"
    }
   ],
   "source": [
    "from sklearn.model_selection import GridSearchCV\n",
    "\n",
    "alphas = np.logspace(-10, 10, 100)\n",
    "searcher = GridSearchCV(pipeline, [{\"regression__alpha\": alphas}],\n",
    "                        scoring=\"neg_mean_absolute_error\", cv=10, n_jobs=-1)\n",
    "\n",
    "searcher.fit(X_train, y_train)"
   ]
  },
  {
   "cell_type": "code",
   "execution_count": 69,
   "id": "011854ed",
   "metadata": {},
   "outputs": [],
   "source": [
    "best_alpha = searcher.best_params_[\"regression__alpha\"]"
   ]
  },
  {
   "cell_type": "code",
   "execution_count": 70,
   "id": "679848ee",
   "metadata": {},
   "outputs": [
    {
     "name": "stdout",
     "output_type": "stream",
     "text": [
      "Best alpha = 22051.3074\n"
     ]
    }
   ],
   "source": [
    "print(\"Best alpha = %.4f\" % best_alpha)"
   ]
  },
  {
   "cell_type": "code",
   "execution_count": 71,
   "id": "a36b2ca5",
   "metadata": {},
   "outputs": [
    {
     "name": "stdout",
     "output_type": "stream",
     "text": [
      "3580.9364784859276\n"
     ]
    }
   ],
   "source": [
    "X_train, X_test, y_train, y_test = train_test_split(X, y, train_size = 0.65, random_state = 42)\n",
    "\n",
    "column_transform = ColumnTransformer([\n",
    "    ('ohe', OneHotEncoder(handle_unknown = \"ignore\"), categorical_features),\n",
    "    ('scaler', StandardScaler(), numeric_features)\n",
    "])\n",
    "\n",
    "pipeline = Pipeline([\n",
    "    ('ohe and scaling', column_transform),\n",
    "    ('regression', Ridge(alpha = best_alpha))\n",
    "])\n",
    "\n",
    "model4 = pipeline.fit(X_train, y_train)\n",
    "\n",
    "y_pred = model4.predict(X_test)\n",
    "\n",
    "MAE_loss = mean_absolute_error(y_test, y_pred)\n",
    "\n",
    "print(MAE_loss)"
   ]
  },
  {
   "cell_type": "markdown",
   "id": "0cb8e519",
   "metadata": {},
   "source": [
    "Попробуем теперь применить random forest для решения задачи"
   ]
  },
  {
   "cell_type": "code",
   "execution_count": 72,
   "id": "6fd64f1d",
   "metadata": {},
   "outputs": [],
   "source": [
    "from sklearn.ensemble import RandomForestRegressor"
   ]
  },
  {
   "cell_type": "code",
   "execution_count": 73,
   "id": "98b4be34",
   "metadata": {
    "scrolled": true
   },
   "outputs": [
    {
     "name": "stdout",
     "output_type": "stream",
     "text": [
      "2987.2128071786233\n"
     ]
    }
   ],
   "source": [
    "X_train, X_test, y_train, y_test = train_test_split(X, y, train_size = 0.65, random_state = 42)\n",
    "\n",
    "numeric_data = X.select_dtypes([np.number])\n",
    "numeric_features = numeric_data.columns\n",
    "\n",
    "scaler = StandardScaler()\n",
    "\n",
    "X_train = scaler.fit_transform(X_train[numeric_features])\n",
    "X_test = scaler.transform(X_test[numeric_features])\n",
    "\n",
    "regressor = RandomForestRegressor(n_estimators = 100, random_state = 42)\n",
    "\n",
    "regressor.fit(X_train, y_train)\n",
    "y_pred = regressor.predict(X_test)\n",
    "\n",
    "MAE_loss = mean_absolute_error(y_test, y_pred)\n",
    "\n",
    "print(MAE_loss)"
   ]
  },
  {
   "cell_type": "code",
   "execution_count": 74,
   "id": "407283d4",
   "metadata": {},
   "outputs": [],
   "source": [
    "import xgboost as xgb"
   ]
  },
  {
   "cell_type": "code",
   "execution_count": null,
   "id": "4fec6949",
   "metadata": {},
   "outputs": [],
   "source": [
    "regressor=xgb.XGBRegressor()\n",
    "\n",
    "X_train, X_test, y_train, y_test = train_test_split(X, y, train_size = 0.65, random_state = 42)\n",
    "\n",
    "numeric_data = X.select_dtypes([np.number])\n",
    "numeric_features = numeric_data.columns\n",
    "\n",
    "scaler = StandardScaler()\n",
    "\n",
    "X_train = scaler.fit_transform(X_train[numeric_features])\n",
    "X_test = scaler.transform(X_test[numeric_features])\n",
    "\n",
    "\n",
    "from sklearn.model_selection import GridSearchCV\n",
    "# set up our search grid\n",
    "param_grid = {\"max_depth\":    np.arange(2, 20),\n",
    "              \"n_estimators\": np.arange(500, 1500, 100),\n",
    "              \"learning_rate\": [0.01, 0.015]}\n",
    "\n",
    "search = GridSearchCV(regressor, param_grid, cv=5, scoring=\"neg_mean_absolute_error\").fit(X_train, y_train)\n",
    "\n",
    "print(\"The best hyperparameters are \",search.best_params_)"
   ]
  },
  {
   "cell_type": "code",
   "execution_count": null,
   "id": "e0273040",
   "metadata": {},
   "outputs": [],
   "source": [
    "regressor=xgb.XGBRegressor(learning_rate = search.best_params_[\"learning_rate\"],\n",
    "                           n_estimators  = search.best_params_[\"n_estimators\"],\n",
    "                           max_depth     = search.best_params_[\"max_depth\"],\n",
    "                           eval_metric   = 'mae')\n",
    "\n",
    "regressor.fit(X_train, y_train)"
   ]
  },
  {
   "cell_type": "code",
   "execution_count": null,
   "id": "a06b0ffa",
   "metadata": {},
   "outputs": [],
   "source": [
    "y_pred = regressor.predict(X_test)"
   ]
  },
  {
   "cell_type": "code",
   "execution_count": null,
   "id": "f13ad9ab",
   "metadata": {},
   "outputs": [],
   "source": [
    "mae_loss = mean_absolute_error(y_test, y_pred)\n",
    "print(mae_loss)"
   ]
  },
  {
   "cell_type": "code",
   "execution_count": null,
   "id": "242eb027",
   "metadata": {},
   "outputs": [],
   "source": []
  }
 ],
 "metadata": {
  "kernelspec": {
   "display_name": "Python 3 (ipykernel)",
   "language": "python",
   "name": "python3"
  },
  "language_info": {
   "codemirror_mode": {
    "name": "ipython",
    "version": 3
   },
   "file_extension": ".py",
   "mimetype": "text/x-python",
   "name": "python",
   "nbconvert_exporter": "python",
   "pygments_lexer": "ipython3",
   "version": "3.10.9"
  }
 },
 "nbformat": 4,
 "nbformat_minor": 5
}
