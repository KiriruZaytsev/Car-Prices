{
 "cells": [
  {
   "cell_type": "code",
   "execution_count": 1,
   "id": "425bbb5b",
   "metadata": {},
   "outputs": [],
   "source": [
    "import pandas as pd\n",
    "from sklearn.model_selection import train_test_split \n",
    "import numpy as np\n",
    "from sklearn.linear_model import Lasso"
   ]
  },
  {
   "cell_type": "code",
   "execution_count": 2,
   "id": "ad8ceced",
   "metadata": {},
   "outputs": [],
   "source": [
    "train_data = pd.read_csv(\"train_data.csv\")"
   ]
  },
  {
   "cell_type": "markdown",
   "id": "cc5fb19d",
   "metadata": {},
   "source": [
    "Посмотрим на данные в датасете. Выведем 5 первых наблюдений"
   ]
  },
  {
   "cell_type": "code",
   "execution_count": 3,
   "id": "4525a3b3",
   "metadata": {},
   "outputs": [
    {
     "data": {
      "text/html": [
       "<div>\n",
       "<style scoped>\n",
       "    .dataframe tbody tr th:only-of-type {\n",
       "        vertical-align: middle;\n",
       "    }\n",
       "\n",
       "    .dataframe tbody tr th {\n",
       "        vertical-align: top;\n",
       "    }\n",
       "\n",
       "    .dataframe thead th {\n",
       "        text-align: right;\n",
       "    }\n",
       "</style>\n",
       "<table border=\"1\" class=\"dataframe\">\n",
       "  <thead>\n",
       "    <tr style=\"text-align: right;\">\n",
       "      <th></th>\n",
       "      <th>row_ID</th>\n",
       "      <th>vehicle_manufacturer</th>\n",
       "      <th>vehicle_model</th>\n",
       "      <th>vehicle_category</th>\n",
       "      <th>current_mileage</th>\n",
       "      <th>vehicle_year</th>\n",
       "      <th>vehicle_gearbox_type</th>\n",
       "      <th>doors_cnt</th>\n",
       "      <th>wheels</th>\n",
       "      <th>vehicle_color</th>\n",
       "      <th>vehicle_interior_color</th>\n",
       "      <th>car_vin</th>\n",
       "      <th>car_leather_interior</th>\n",
       "      <th>deal_type</th>\n",
       "      <th>final_price</th>\n",
       "    </tr>\n",
       "  </thead>\n",
       "  <tbody>\n",
       "    <tr>\n",
       "      <th>0</th>\n",
       "      <td>0</td>\n",
       "      <td>TOYOTA</td>\n",
       "      <td>Aqua s</td>\n",
       "      <td>Sedan</td>\n",
       "      <td>133000</td>\n",
       "      <td>2014</td>\n",
       "      <td>Automatic</td>\n",
       "      <td>4/5</td>\n",
       "      <td>Right-hand drive</td>\n",
       "      <td>Silver</td>\n",
       "      <td>Black</td>\n",
       "      <td>NaN</td>\n",
       "      <td>0</td>\n",
       "      <td>For Sale</td>\n",
       "      <td>3650.0</td>\n",
       "    </tr>\n",
       "    <tr>\n",
       "      <th>1</th>\n",
       "      <td>1</td>\n",
       "      <td>MERCEDES-BENZ</td>\n",
       "      <td>C 220</td>\n",
       "      <td>Sedan</td>\n",
       "      <td>24500</td>\n",
       "      <td>2010</td>\n",
       "      <td>Manual</td>\n",
       "      <td>4/5</td>\n",
       "      <td>Left wheel</td>\n",
       "      <td>Silver</td>\n",
       "      <td>Black</td>\n",
       "      <td>NaN</td>\n",
       "      <td>0</td>\n",
       "      <td>For Sale</td>\n",
       "      <td>6800.0</td>\n",
       "    </tr>\n",
       "    <tr>\n",
       "      <th>2</th>\n",
       "      <td>2</td>\n",
       "      <td>HYUNDAI</td>\n",
       "      <td>Veloster</td>\n",
       "      <td>Hatchback</td>\n",
       "      <td>31000</td>\n",
       "      <td>2016</td>\n",
       "      <td>Tiptronic</td>\n",
       "      <td>2/3</td>\n",
       "      <td>Left wheel</td>\n",
       "      <td>Silver</td>\n",
       "      <td>Black</td>\n",
       "      <td>KMHTC6AE3GU293912</td>\n",
       "      <td>1</td>\n",
       "      <td>For Sale</td>\n",
       "      <td>6300.0</td>\n",
       "    </tr>\n",
       "    <tr>\n",
       "      <th>3</th>\n",
       "      <td>3</td>\n",
       "      <td>HYUNDAI</td>\n",
       "      <td>Santa FE</td>\n",
       "      <td>Jeep</td>\n",
       "      <td>115459</td>\n",
       "      <td>2015</td>\n",
       "      <td>Automatic</td>\n",
       "      <td>4/5</td>\n",
       "      <td>Left wheel</td>\n",
       "      <td>Blue</td>\n",
       "      <td>Black</td>\n",
       "      <td>NaN</td>\n",
       "      <td>1</td>\n",
       "      <td>For Sale</td>\n",
       "      <td>14488.0</td>\n",
       "    </tr>\n",
       "    <tr>\n",
       "      <th>4</th>\n",
       "      <td>4</td>\n",
       "      <td>TOYOTA</td>\n",
       "      <td>CHR</td>\n",
       "      <td>Jeep</td>\n",
       "      <td>18950</td>\n",
       "      <td>2019</td>\n",
       "      <td>Automatic</td>\n",
       "      <td>4/5</td>\n",
       "      <td>Left wheel</td>\n",
       "      <td>Black</td>\n",
       "      <td>NaN</td>\n",
       "      <td>JTNKHMBX7K1030253</td>\n",
       "      <td>1</td>\n",
       "      <td>For Sale</td>\n",
       "      <td>5000.0</td>\n",
       "    </tr>\n",
       "  </tbody>\n",
       "</table>\n",
       "</div>"
      ],
      "text/plain": [
       "   row_ID vehicle_manufacturer vehicle_model vehicle_category  \\\n",
       "0       0               TOYOTA        Aqua s            Sedan   \n",
       "1       1        MERCEDES-BENZ         C 220            Sedan   \n",
       "2       2              HYUNDAI      Veloster        Hatchback   \n",
       "3       3              HYUNDAI      Santa FE             Jeep   \n",
       "4       4               TOYOTA           CHR             Jeep   \n",
       "\n",
       "   current_mileage  vehicle_year vehicle_gearbox_type doors_cnt  \\\n",
       "0           133000          2014            Automatic       4/5   \n",
       "1            24500          2010               Manual       4/5   \n",
       "2            31000          2016            Tiptronic       2/3   \n",
       "3           115459          2015            Automatic       4/5   \n",
       "4            18950          2019            Automatic       4/5   \n",
       "\n",
       "                  wheels vehicle_color vehicle_interior_color  \\\n",
       "0    Right-hand drive          Silver                  Black    \n",
       "1           Left wheel         Silver                  Black    \n",
       "2           Left wheel         Silver                  Black    \n",
       "3           Left wheel           Blue                  Black    \n",
       "4           Left wheel          Black                     NaN   \n",
       "\n",
       "               car_vin  car_leather_interior deal_type  final_price  \n",
       "0                  NaN                     0  For Sale       3650.0  \n",
       "1                  NaN                     0  For Sale       6800.0  \n",
       "2   KMHTC6AE3GU293912                      1  For Sale       6300.0  \n",
       "3                  NaN                     1  For Sale      14488.0  \n",
       "4   JTNKHMBX7K1030253                      1  For Sale       5000.0  "
      ]
     },
     "execution_count": 3,
     "metadata": {},
     "output_type": "execute_result"
    }
   ],
   "source": [
    "train_data.head()"
   ]
  },
  {
   "cell_type": "markdown",
   "id": "77a9126f",
   "metadata": {},
   "source": [
    "Посмотрим, какие значения принимают каждые параметры, среднее, среднее отклонение, минимальное и максимальное значения\n"
   ]
  },
  {
   "cell_type": "code",
   "execution_count": 4,
   "id": "f151713a",
   "metadata": {},
   "outputs": [
    {
     "data": {
      "text/html": [
       "<div>\n",
       "<style scoped>\n",
       "    .dataframe tbody tr th:only-of-type {\n",
       "        vertical-align: middle;\n",
       "    }\n",
       "\n",
       "    .dataframe tbody tr th {\n",
       "        vertical-align: top;\n",
       "    }\n",
       "\n",
       "    .dataframe thead th {\n",
       "        text-align: right;\n",
       "    }\n",
       "</style>\n",
       "<table border=\"1\" class=\"dataframe\">\n",
       "  <thead>\n",
       "    <tr style=\"text-align: right;\">\n",
       "      <th></th>\n",
       "      <th>row_ID</th>\n",
       "      <th>current_mileage</th>\n",
       "      <th>vehicle_year</th>\n",
       "      <th>car_leather_interior</th>\n",
       "      <th>final_price</th>\n",
       "    </tr>\n",
       "  </thead>\n",
       "  <tbody>\n",
       "    <tr>\n",
       "      <th>count</th>\n",
       "      <td>35000.000000</td>\n",
       "      <td>3.500000e+04</td>\n",
       "      <td>35000.000000</td>\n",
       "      <td>35000.000000</td>\n",
       "      <td>3.500000e+04</td>\n",
       "    </tr>\n",
       "    <tr>\n",
       "      <th>mean</th>\n",
       "      <td>17499.500000</td>\n",
       "      <td>1.969224e+06</td>\n",
       "      <td>2010.651743</td>\n",
       "      <td>0.715486</td>\n",
       "      <td>6.014077e+03</td>\n",
       "    </tr>\n",
       "    <tr>\n",
       "      <th>std</th>\n",
       "      <td>10103.774047</td>\n",
       "      <td>5.682401e+07</td>\n",
       "      <td>12.247792</td>\n",
       "      <td>0.451189</td>\n",
       "      <td>7.341517e+04</td>\n",
       "    </tr>\n",
       "    <tr>\n",
       "      <th>min</th>\n",
       "      <td>0.000000</td>\n",
       "      <td>0.000000e+00</td>\n",
       "      <td>0.000000</td>\n",
       "      <td>0.000000</td>\n",
       "      <td>0.000000e+00</td>\n",
       "    </tr>\n",
       "    <tr>\n",
       "      <th>25%</th>\n",
       "      <td>8749.750000</td>\n",
       "      <td>7.145400e+04</td>\n",
       "      <td>2008.000000</td>\n",
       "      <td>0.000000</td>\n",
       "      <td>1.350000e+03</td>\n",
       "    </tr>\n",
       "    <tr>\n",
       "      <th>50%</th>\n",
       "      <td>17499.500000</td>\n",
       "      <td>1.290000e+05</td>\n",
       "      <td>2012.000000</td>\n",
       "      <td>1.000000</td>\n",
       "      <td>3.900000e+03</td>\n",
       "    </tr>\n",
       "    <tr>\n",
       "      <th>75%</th>\n",
       "      <td>26249.250000</td>\n",
       "      <td>1.900000e+05</td>\n",
       "      <td>2014.000000</td>\n",
       "      <td>1.000000</td>\n",
       "      <td>7.000000e+03</td>\n",
       "    </tr>\n",
       "    <tr>\n",
       "      <th>max</th>\n",
       "      <td>34999.000000</td>\n",
       "      <td>2.147484e+09</td>\n",
       "      <td>2020.000000</td>\n",
       "      <td>1.000000</td>\n",
       "      <td>8.388607e+06</td>\n",
       "    </tr>\n",
       "  </tbody>\n",
       "</table>\n",
       "</div>"
      ],
      "text/plain": [
       "             row_ID  current_mileage  vehicle_year  car_leather_interior  \\\n",
       "count  35000.000000     3.500000e+04  35000.000000          35000.000000   \n",
       "mean   17499.500000     1.969224e+06   2010.651743              0.715486   \n",
       "std    10103.774047     5.682401e+07     12.247792              0.451189   \n",
       "min        0.000000     0.000000e+00      0.000000              0.000000   \n",
       "25%     8749.750000     7.145400e+04   2008.000000              0.000000   \n",
       "50%    17499.500000     1.290000e+05   2012.000000              1.000000   \n",
       "75%    26249.250000     1.900000e+05   2014.000000              1.000000   \n",
       "max    34999.000000     2.147484e+09   2020.000000              1.000000   \n",
       "\n",
       "        final_price  \n",
       "count  3.500000e+04  \n",
       "mean   6.014077e+03  \n",
       "std    7.341517e+04  \n",
       "min    0.000000e+00  \n",
       "25%    1.350000e+03  \n",
       "50%    3.900000e+03  \n",
       "75%    7.000000e+03  \n",
       "max    8.388607e+06  "
      ]
     },
     "execution_count": 4,
     "metadata": {},
     "output_type": "execute_result"
    }
   ],
   "source": [
    "train_data.describe()"
   ]
  },
  {
   "cell_type": "code",
   "execution_count": 5,
   "id": "d5d33a6b",
   "metadata": {
    "scrolled": true
   },
   "outputs": [
    {
     "data": {
      "text/plain": [
       "Index(['row_ID', 'vehicle_manufacturer', 'vehicle_model', 'vehicle_category',\n",
       "       'current_mileage', 'vehicle_year', 'vehicle_gearbox_type', 'doors_cnt',\n",
       "       'wheels', 'vehicle_color', 'vehicle_interior_color', 'car_vin',\n",
       "       'car_leather_interior', 'deal_type', 'final_price'],\n",
       "      dtype='object')"
      ]
     },
     "execution_count": 5,
     "metadata": {},
     "output_type": "execute_result"
    }
   ],
   "source": [
    "train_data.columns"
   ]
  },
  {
   "cell_type": "code",
   "execution_count": 6,
   "id": "29fd9b5e",
   "metadata": {},
   "outputs": [
    {
     "data": {
      "text/plain": [
       "row_ID                      int64\n",
       "vehicle_manufacturer       object\n",
       "vehicle_model              object\n",
       "vehicle_category           object\n",
       "current_mileage             int64\n",
       "vehicle_year                int64\n",
       "vehicle_gearbox_type       object\n",
       "doors_cnt                  object\n",
       "wheels                     object\n",
       "vehicle_color              object\n",
       "vehicle_interior_color     object\n",
       "car_vin                    object\n",
       "car_leather_interior        int64\n",
       "deal_type                  object\n",
       "final_price               float64\n",
       "dtype: object"
      ]
     },
     "execution_count": 6,
     "metadata": {},
     "output_type": "execute_result"
    }
   ],
   "source": [
    "train_data.dtypes"
   ]
  },
  {
   "cell_type": "markdown",
   "id": "48ab8f60",
   "metadata": {},
   "source": [
    "Посмотрим, какие типы принимают признаки. Заметим, что doors_cnt -- это строка, поэтому к нему придётся использовать one-hot кодирование, либо переводить его в float. Попробуем применить оба подхода и сравним результат"
   ]
  },
  {
   "cell_type": "code",
   "execution_count": 7,
   "id": "534a7d0f",
   "metadata": {},
   "outputs": [
    {
     "data": {
      "text/plain": [
       "For Sale    34372\n",
       "For Rent      628\n",
       "Name: deal_type, dtype: int64"
      ]
     },
     "execution_count": 7,
     "metadata": {},
     "output_type": "execute_result"
    }
   ],
   "source": [
    "train_data['deal_type'].value_counts()"
   ]
  },
  {
   "cell_type": "code",
   "execution_count": 8,
   "id": "b1e1915a",
   "metadata": {},
   "outputs": [],
   "source": [
    "train_data = train_data.query(\"deal_type == 'For Sale'\")"
   ]
  },
  {
   "cell_type": "code",
   "execution_count": 9,
   "id": "15541e1c",
   "metadata": {},
   "outputs": [
    {
     "data": {
      "text/plain": [
       "For Sale    34372\n",
       "Name: deal_type, dtype: int64"
      ]
     },
     "execution_count": 9,
     "metadata": {},
     "output_type": "execute_result"
    }
   ],
   "source": [
    "train_data['deal_type'].value_counts()"
   ]
  },
  {
   "cell_type": "markdown",
   "id": "43b81106",
   "metadata": {},
   "source": [
    "Посмотрели, какие значения принимает признак \"deal_type\". В датасете есть 628 автомобилей, сдающихся в аренду, их нужно выбросить, если в качестве целевой переменной брать стоимость продажи\n"
   ]
  },
  {
   "cell_type": "code",
   "execution_count": 10,
   "id": "d2b23757",
   "metadata": {},
   "outputs": [
    {
     "data": {
      "text/plain": [
       "count    3.437200e+04\n",
       "mean     1.907385e+06\n",
       "std      5.584060e+07\n",
       "min      0.000000e+00\n",
       "25%      7.149500e+04\n",
       "50%      1.290000e+05\n",
       "75%      1.905522e+05\n",
       "max      2.147484e+09\n",
       "Name: current_mileage, dtype: float64"
      ]
     },
     "execution_count": 10,
     "metadata": {},
     "output_type": "execute_result"
    }
   ],
   "source": [
    "train_data['current_mileage'].describe()"
   ]
  },
  {
   "cell_type": "markdown",
   "id": "13ffcd6d",
   "metadata": {},
   "source": [
    "Посмотрим на значения пробега: видно, что среднее $1.9 \\cdot 10^6$, а максимальное значение $2.14 \\cdot 10^9$, скорее всего, есть выбросы по этому признаку, с ними нужно будет что-то сделать"
   ]
  },
  {
   "cell_type": "code",
   "execution_count": 11,
   "id": "8cb089a3",
   "metadata": {
    "scrolled": true
   },
   "outputs": [
    {
     "data": {
      "text/plain": [
       "row_ID                    157\n",
       "vehicle_manufacturer      157\n",
       "vehicle_model             157\n",
       "vehicle_category          157\n",
       "current_mileage           157\n",
       "vehicle_year              157\n",
       "vehicle_gearbox_type      157\n",
       "doors_cnt                 157\n",
       "wheels                    157\n",
       "vehicle_color             157\n",
       "vehicle_interior_color    157\n",
       "car_vin                    19\n",
       "car_leather_interior      157\n",
       "deal_type                 157\n",
       "final_price               157\n",
       "dtype: int64"
      ]
     },
     "execution_count": 11,
     "metadata": {},
     "output_type": "execute_result"
    }
   ],
   "source": [
    "train_data[train_data['current_mileage'] >= 10**6].count()"
   ]
  },
  {
   "cell_type": "markdown",
   "id": "19b1679d",
   "metadata": {},
   "source": [
    "Заметим, что всего у 74 автомобилей значение 'current_mileage' $\\geq 10^7$, поэтому можно попробовать выбросить все эти значения "
   ]
  },
  {
   "cell_type": "code",
   "execution_count": 12,
   "id": "8b52a3e7",
   "metadata": {},
   "outputs": [],
   "source": [
    "train_data = train_data.query(\"current_mileage <= 1000000\")"
   ]
  },
  {
   "cell_type": "code",
   "execution_count": 13,
   "id": "fdd1d077",
   "metadata": {},
   "outputs": [
    {
     "data": {
      "text/plain": [
       "count      34217.000000\n",
       "mean      141280.750592\n",
       "std       101848.017373\n",
       "min            0.000000\n",
       "25%        71172.000000\n",
       "50%       128202.000000\n",
       "75%       190000.000000\n",
       "max      1000000.000000\n",
       "Name: current_mileage, dtype: float64"
      ]
     },
     "execution_count": 13,
     "metadata": {},
     "output_type": "execute_result"
    }
   ],
   "source": [
    "train_data['current_mileage'].describe()"
   ]
  },
  {
   "cell_type": "code",
   "execution_count": 14,
   "id": "fb4617c9",
   "metadata": {},
   "outputs": [
    {
     "data": {
      "text/plain": [
       "count    34217.000000\n",
       "mean      2010.750709\n",
       "std         12.313542\n",
       "min          0.000000\n",
       "25%       2009.000000\n",
       "50%       2012.000000\n",
       "75%       2014.000000\n",
       "max       2020.000000\n",
       "Name: vehicle_year, dtype: float64"
      ]
     },
     "execution_count": 14,
     "metadata": {},
     "output_type": "execute_result"
    }
   ],
   "source": [
    "train_data['vehicle_year'].describe()"
   ]
  },
  {
   "cell_type": "code",
   "execution_count": 15,
   "id": "8cf21627",
   "metadata": {},
   "outputs": [
    {
     "data": {
      "text/plain": [
       "row_ID                    1\n",
       "vehicle_manufacturer      0\n",
       "vehicle_model             0\n",
       "vehicle_category          0\n",
       "current_mileage           1\n",
       "vehicle_year              1\n",
       "vehicle_gearbox_type      0\n",
       "doors_cnt                 0\n",
       "wheels                    0\n",
       "vehicle_color             0\n",
       "vehicle_interior_color    0\n",
       "car_vin                   0\n",
       "car_leather_interior      1\n",
       "deal_type                 1\n",
       "final_price               1\n",
       "dtype: int64"
      ]
     },
     "execution_count": 15,
     "metadata": {},
     "output_type": "execute_result"
    }
   ],
   "source": [
    "train_data[train_data['vehicle_year'] <= 1920].count()"
   ]
  },
  {
   "cell_type": "markdown",
   "id": "a9aca8af",
   "metadata": {},
   "source": [
    "Также есть выброс в 'vehicle_year'. Какой-то из автомобилей был сделан в 0 году, а такого значения быть не может. Его тоже нужно проигнорировать"
   ]
  },
  {
   "cell_type": "code",
   "execution_count": 16,
   "id": "a35b6bac",
   "metadata": {},
   "outputs": [],
   "source": [
    "train_data = train_data.query(\"vehicle_year >= 1920\")"
   ]
  },
  {
   "cell_type": "code",
   "execution_count": 17,
   "id": "6c4c6335",
   "metadata": {},
   "outputs": [
    {
     "data": {
      "text/plain": [
       "count    34216.000000\n",
       "mean      2010.809475\n",
       "std          5.784141\n",
       "min       1940.000000\n",
       "25%       2009.000000\n",
       "50%       2012.000000\n",
       "75%       2014.000000\n",
       "max       2020.000000\n",
       "Name: vehicle_year, dtype: float64"
      ]
     },
     "execution_count": 17,
     "metadata": {},
     "output_type": "execute_result"
    }
   ],
   "source": [
    "train_data['vehicle_year'].describe()"
   ]
  },
  {
   "cell_type": "code",
   "execution_count": 18,
   "id": "530bee35",
   "metadata": {},
   "outputs": [],
   "source": [
    "%matplotlib inline\n",
    "import matplotlib.pyplot as plt\n",
    "import seaborn as sns"
   ]
  },
  {
   "cell_type": "code",
   "execution_count": 19,
   "id": "260caba5",
   "metadata": {},
   "outputs": [
    {
     "data": {
      "image/png": "[encoded data removed]",
      "text/plain": [
       "<Figure size 640x480 with 1 Axes>"
      ]
     },
     "metadata": {},
     "output_type": "display_data"
    }
   ],
   "source": [
    "plt.hist(train_data['vehicle_year'])\n",
    "plt.show()"
   ]
  },
  {
   "cell_type": "code",
   "execution_count": 20,
   "id": "a660621c",
   "metadata": {},
   "outputs": [
    {
     "data": {
      "image/png": "[encoded data removed]",
      "text/plain": [
       "<Figure size 640x480 with 1 Axes>"
      ]
     },
     "metadata": {},
     "output_type": "display_data"
    }
   ],
   "source": [
    "plt.hist(train_data['current_mileage'])\n",
    "plt.show()"
   ]
  },
  {
   "cell_type": "markdown",
   "id": "cd2368d4",
   "metadata": {},
   "source": [
    "Для того, чтобы избавиться от переобучения, выбросим из датасета столбцы row_ID и car_vin"
   ]
  },
  {
   "cell_type": "code",
   "execution_count": 21,
   "id": "85aa416d",
   "metadata": {},
   "outputs": [],
   "source": [
    "columns_to_drop = ['row_ID', 'car_vin']\n",
    "\n",
    "train_data = train_data.drop(columns = columns_to_drop)"
   ]
  },
  {
   "cell_type": "code",
   "execution_count": 22,
   "id": "9ed6ff1f",
   "metadata": {},
   "outputs": [
    {
     "data": {
      "text/html": [
       "<div>\n",
       "<style scoped>\n",
       "    .dataframe tbody tr th:only-of-type {\n",
       "        vertical-align: middle;\n",
       "    }\n",
       "\n",
       "    .dataframe tbody tr th {\n",
       "        vertical-align: top;\n",
       "    }\n",
       "\n",
       "    .dataframe thead th {\n",
       "        text-align: right;\n",
       "    }\n",
       "</style>\n",
       "<table border=\"1\" class=\"dataframe\">\n",
       "  <thead>\n",
       "    <tr style=\"text-align: right;\">\n",
       "      <th></th>\n",
       "      <th>vehicle_manufacturer</th>\n",
       "      <th>vehicle_model</th>\n",
       "      <th>vehicle_category</th>\n",
       "      <th>current_mileage</th>\n",
       "      <th>vehicle_year</th>\n",
       "      <th>vehicle_gearbox_type</th>\n",
       "      <th>doors_cnt</th>\n",
       "      <th>wheels</th>\n",
       "      <th>vehicle_color</th>\n",
       "      <th>vehicle_interior_color</th>\n",
       "      <th>car_leather_interior</th>\n",
       "      <th>deal_type</th>\n",
       "      <th>final_price</th>\n",
       "    </tr>\n",
       "  </thead>\n",
       "  <tbody>\n",
       "    <tr>\n",
       "      <th>0</th>\n",
       "      <td>TOYOTA</td>\n",
       "      <td>Aqua s</td>\n",
       "      <td>Sedan</td>\n",
       "      <td>133000</td>\n",
       "      <td>2014</td>\n",
       "      <td>Automatic</td>\n",
       "      <td>4/5</td>\n",
       "      <td>Right-hand drive</td>\n",
       "      <td>Silver</td>\n",
       "      <td>Black</td>\n",
       "      <td>0</td>\n",
       "      <td>For Sale</td>\n",
       "      <td>3650.0</td>\n",
       "    </tr>\n",
       "    <tr>\n",
       "      <th>1</th>\n",
       "      <td>MERCEDES-BENZ</td>\n",
       "      <td>C 220</td>\n",
       "      <td>Sedan</td>\n",
       "      <td>24500</td>\n",
       "      <td>2010</td>\n",
       "      <td>Manual</td>\n",
       "      <td>4/5</td>\n",
       "      <td>Left wheel</td>\n",
       "      <td>Silver</td>\n",
       "      <td>Black</td>\n",
       "      <td>0</td>\n",
       "      <td>For Sale</td>\n",
       "      <td>6800.0</td>\n",
       "    </tr>\n",
       "    <tr>\n",
       "      <th>2</th>\n",
       "      <td>HYUNDAI</td>\n",
       "      <td>Veloster</td>\n",
       "      <td>Hatchback</td>\n",
       "      <td>31000</td>\n",
       "      <td>2016</td>\n",
       "      <td>Tiptronic</td>\n",
       "      <td>2/3</td>\n",
       "      <td>Left wheel</td>\n",
       "      <td>Silver</td>\n",
       "      <td>Black</td>\n",
       "      <td>1</td>\n",
       "      <td>For Sale</td>\n",
       "      <td>6300.0</td>\n",
       "    </tr>\n",
       "    <tr>\n",
       "      <th>3</th>\n",
       "      <td>HYUNDAI</td>\n",
       "      <td>Santa FE</td>\n",
       "      <td>Jeep</td>\n",
       "      <td>115459</td>\n",
       "      <td>2015</td>\n",
       "      <td>Automatic</td>\n",
       "      <td>4/5</td>\n",
       "      <td>Left wheel</td>\n",
       "      <td>Blue</td>\n",
       "      <td>Black</td>\n",
       "      <td>1</td>\n",
       "      <td>For Sale</td>\n",
       "      <td>14488.0</td>\n",
       "    </tr>\n",
       "    <tr>\n",
       "      <th>4</th>\n",
       "      <td>TOYOTA</td>\n",
       "      <td>CHR</td>\n",
       "      <td>Jeep</td>\n",
       "      <td>18950</td>\n",
       "      <td>2019</td>\n",
       "      <td>Automatic</td>\n",
       "      <td>4/5</td>\n",
       "      <td>Left wheel</td>\n",
       "      <td>Black</td>\n",
       "      <td>NaN</td>\n",
       "      <td>1</td>\n",
       "      <td>For Sale</td>\n",
       "      <td>5000.0</td>\n",
       "    </tr>\n",
       "  </tbody>\n",
       "</table>\n",
       "</div>"
      ],
      "text/plain": [
       "  vehicle_manufacturer vehicle_model vehicle_category  current_mileage  \\\n",
       "0               TOYOTA        Aqua s            Sedan           133000   \n",
       "1        MERCEDES-BENZ         C 220            Sedan            24500   \n",
       "2              HYUNDAI      Veloster        Hatchback            31000   \n",
       "3              HYUNDAI      Santa FE             Jeep           115459   \n",
       "4               TOYOTA           CHR             Jeep            18950   \n",
       "\n",
       "   vehicle_year vehicle_gearbox_type doors_cnt                 wheels  \\\n",
       "0          2014            Automatic       4/5    Right-hand drive      \n",
       "1          2010               Manual       4/5           Left wheel     \n",
       "2          2016            Tiptronic       2/3           Left wheel     \n",
       "3          2015            Automatic       4/5           Left wheel     \n",
       "4          2019            Automatic       4/5           Left wheel     \n",
       "\n",
       "  vehicle_color vehicle_interior_color  car_leather_interior deal_type  \\\n",
       "0       Silver                  Black                      0  For Sale   \n",
       "1       Silver                  Black                      0  For Sale   \n",
       "2       Silver                  Black                      1  For Sale   \n",
       "3         Blue                  Black                      1  For Sale   \n",
       "4        Black                     NaN                     1  For Sale   \n",
       "\n",
       "   final_price  \n",
       "0       3650.0  \n",
       "1       6800.0  \n",
       "2       6300.0  \n",
       "3      14488.0  \n",
       "4       5000.0  "
      ]
     },
     "execution_count": 22,
     "metadata": {},
     "output_type": "execute_result"
    }
   ],
   "source": [
    "train_data.head()"
   ]
  },
  {
   "cell_type": "code",
   "execution_count": 47,
   "id": "2c3c33dc",
   "metadata": {},
   "outputs": [],
   "source": [
    "train_data = train_data.dropna()\n",
    "\n",
    "y = train_data['final_price']\n",
    "X = train_data.drop(columns = ['final_price'])\n",
    "\n",
    "X_train, X_test, y_train, y_test = train_test_split(X, y, train_size = 0.65, random_state = 42)\n"
   ]
  },
  {
   "cell_type": "code",
   "execution_count": 48,
   "id": "1b4c9259",
   "metadata": {},
   "outputs": [],
   "source": [
    "from sklearn.preprocessing import OneHotEncoder\n",
    "from sklearn.compose import ColumnTransformer\n",
    "from sklearn.preprocessing import StandardScaler\n",
    "from sklearn.pipeline import Pipeline"
   ]
  },
  {
   "cell_type": "code",
   "execution_count": 64,
   "id": "92ef1c06",
   "metadata": {},
   "outputs": [
    {
     "name": "stdout",
     "output_type": "stream",
     "text": [
      "Index(['vehicle_manufacturer', 'vehicle_model', 'vehicle_category',\n",
      "       'vehicle_gearbox_type', 'doors_cnt', 'wheels', 'vehicle_color',\n",
      "       'vehicle_interior_color', 'deal_type'],\n",
      "      dtype='object')\n"
     ]
    }
   ],
   "source": [
    "numeric_data = X_train.select_dtypes([np.number])\n",
    "numeric_features = numeric_data.columns\n",
    "\n",
    "categorical_data = X_train.select_dtypes([object])\n",
    "categorical_features = categorical_data.columns"
   ]
  },
  {
   "cell_type": "code",
   "execution_count": 50,
   "id": "52ce8094",
   "metadata": {
    "scrolled": true
   },
   "outputs": [],
   "source": [
    "column_transform = ColumnTransformer([\n",
    "    ('ohe', OneHotEncoder(handle_unknown = \"ignore\"), categorical_features),\n",
    "    ('scaler', StandardScaler(), numeric_features)\n",
    "])\n",
    "\n",
    "pipeline = Pipeline([\n",
    "    ('ohe and scaling', column_transform),\n",
    "    ('Lasso regression', Lasso())\n",
    "])"
   ]
  },
  {
   "cell_type": "code",
   "execution_count": 51,
   "id": "d879c853",
   "metadata": {},
   "outputs": [],
   "source": [
    "model = pipeline.fit(X_train, y_train)"
   ]
  },
  {
   "cell_type": "code",
   "execution_count": 55,
   "id": "f318a6fe",
   "metadata": {},
   "outputs": [],
   "source": [
    "y_pred = model.predict(X_test)"
   ]
  },
  {
   "cell_type": "code",
   "execution_count": 61,
   "id": "12443ba0",
   "metadata": {},
   "outputs": [
    {
     "name": "stdout",
     "output_type": "stream",
     "text": [
      "5943.64920310952\n"
     ]
    }
   ],
   "source": [
    "from sklearn.metrics import mean_absolute_error\n",
    "\n",
    "MAE_loss = mean_absolute_error(y_test, y_pred)\n",
    "\n",
    "print(MAE_loss)"
   ]
  },
  {
   "cell_type": "markdown",
   "id": "23770bf8",
   "metadata": {},
   "source": [
    "Lasso регуляризация занулила весов:"
   ]
  },
  {
   "cell_type": "code",
   "execution_count": 70,
   "id": "00ba7c40",
   "metadata": {
    "scrolled": true
   },
   "outputs": [
    {
     "data": {
      "text/plain": [
       "1347"
      ]
     },
     "execution_count": 70,
     "metadata": {},
     "output_type": "execute_result"
    }
   ],
   "source": [
    "len(model.named_steps['Lasso regression'].coef_) - np.count_nonzero(model.named_steps['Lasso regression'].coef_)"
   ]
  },
  {
   "cell_type": "code",
   "execution_count": null,
   "id": "9053153a",
   "metadata": {},
   "outputs": [],
   "source": []
  }
 ],
 "metadata": {
  "kernelspec": {
   "display_name": "Python 3 (ipykernel)",
   "language": "python",
   "name": "python3"
  },
  "language_info": {
   "codemirror_mode": {
    "name": "ipython",
    "version": 3
   },
   "file_extension": ".py",
   "mimetype": "text/x-python",
   "name": "python",
   "nbconvert_exporter": "python",
   "pygments_lexer": "ipython3",
   "version": "3.10.9"
  }
 },
 "nbformat": 4,
 "nbformat_minor": 5
}
